{
  "cells": [
    {
      "attachments": {},
      "cell_type": "markdown",
      "metadata": {
        "id": "JJeY52mkwqe5"
      },
      "source": [
        "### 2022-1 Artificial Intelligence (01)\n",
        "## Homework #1: MLP from the scratch\n",
        "---\n",
        "Copyright (c) Prof. Jaehyeong Sim \n",
        "\n",
        "Department of Computer Science and Engineering\n",
        "\n",
        "Ewha Womans University"
      ]
    },
    {
      "cell_type": "code",
      "execution_count": 1,
      "metadata": {
        "id": "LOgtScJ6VfFi"
      },
      "outputs": [],
      "source": [
        "import numpy as np"
      ]
    },
    {
      "cell_type": "code",
      "execution_count": 2,
      "metadata": {
        "id": "Hw2ul1L7Vg5c"
      },
      "outputs": [],
      "source": [
        "# Sigmoid function\n",
        "def sigmoid(x):\n",
        "  # Problem 1.(a): fill here\n",
        "  return 1 / (1 + np.exp(-x))\n",
        "\n",
        "# Derivative of sigmoid function\n",
        "def dsigmoid(x):\n",
        "  # Problem 1.(a): fill here\n",
        "  return sigmoid(x) * (1 - sigmoid(x))\n",
        "\n",
        "# Hyperbolic tangent function\n",
        "def tanh(x):\n",
        "  # Problem 1.(a): fill here\n",
        "  return np.tanh(x)\n",
        "\n",
        "# Derivative of hyperbolic tangent function\n",
        "def dtanh(x):\n",
        "  # Problem 1.(a): fill here\n",
        "  return 1 - np.square(tanh(x))"
      ]
    },
    {
      "cell_type": "code",
      "execution_count": 3,
      "metadata": {
        "id": "g0MG-Fl4IMd_"
      },
      "outputs": [],
      "source": [
        "# Mean squared error function\n",
        "def MSE(O, T):\n",
        "  # Problem 1.(b): fill here\n",
        "  N = O.shape[0]\n",
        "  return (1/N) * np.sum(np.power(O-T, 2))\n",
        "\n",
        "# Derivative of hyperbolic tangent function\n",
        "def dMSE(O, T):\n",
        "  # Problem 1.(b): fill here\n",
        "  return (O - T)"
      ]
    },
    {
      "cell_type": "code",
      "execution_count": 11,
      "metadata": {
        "id": "g8VxeUNJWUQi"
      },
      "outputs": [],
      "source": [
        "class MLP:\n",
        "\n",
        "  def __init__(self, learning_rate=0.01, n_epochs=5, n_inputs=2, n_hiddens=2, n_outputs=1):\n",
        "    self.lr = learning_rate\n",
        "    self.n_epochs = n_epochs\n",
        "    \n",
        "    self.n_inputs = n_inputs\n",
        "    self.n_hiddens = n_hiddens\n",
        "    self.n_outputs = n_outputs\n",
        "\n",
        "    self.first_layer_activation_func = tanh\n",
        "    self.first_layer_dactivation_func = dtanh\n",
        "    self.second_layer_activation_func = sigmoid\n",
        "    self.second_layer_dactivation_func = dsigmoid\n",
        "    self.loss_func = MSE\n",
        "    self.dloss_func = dMSE\n",
        "    self.first_layer_weights = None\n",
        "    self.first_layer_bias = None\n",
        "    self.second_layer_weights = None\n",
        "    self.second_layer_bias = None\n",
        "\n",
        "  def _init_params(self):\n",
        "    # Problem 1.(c): fill here\n",
        "    np.random.seed(42)\n",
        "    \n",
        "    self.first_layer_weights = np.random.rand(self.n_inputs, self.n_hiddens)\n",
        "    self.first_layer_bias = np.random.rand(self.n_hiddens)\n",
        "    \n",
        "    self.second_layer_weights = np.random.rand(self.n_hiddens, self.n_outputs)\n",
        "    self.second_layer_bias = np.random.rand(self.n_outputs)\n",
        "\n",
        "  def _forward(self, X, T):\n",
        "    # Problem 1.(d): fill here\n",
        "    Z1 = np.dot(X, self.first_layer_weights) + self.first_layer_bias\n",
        "    A1 = self.first_layer_activation_func(Z1)\n",
        "    Z2 = np.dot(A1, self.second_layer_weights) + self.second_layer_bias\n",
        "    A2 = self.second_layer_activation_func(Z2)\n",
        "\n",
        "    if T is None:\n",
        "      return A2\n",
        "    \n",
        "    else:\n",
        "      loss = self.loss_func(A2, T)\n",
        "      return Z1, A1, Z2, A2, loss\n",
        "\n",
        "    \n",
        "\n",
        "  def _backward(self, X, Z1, A1, Z2, A2, T):\n",
        "    # Problem 1.(e): fill here\n",
        "    dA2 = self.dloss_func(A2, T)\n",
        "    dZ2 = dA2 * self.second_layer_dactivation_func(Z2)\n",
        "    dW2 = np.dot(A1.transpose(), dZ2)\n",
        "    dB2 = np.dot(np.ones(shape=(1, X.shape[0])), dZ2)\n",
        "    dA1 = np.dot(dZ2, self.second_layer_weights.transpose())\n",
        "    dZ1 = dA1 * self.first_layer_dactivation_func(Z1)\n",
        "    dW1 = np.dot(X.transpose(), dZ1)\n",
        "    dB1 = np.dot(np.ones(shape=(1, X.shape[0])), dZ1)\n",
        "    return dW1, dB1, dW2, dB2\n",
        "\n",
        "  def predict(self, X):\n",
        "    return self._forward(X, None)\n",
        "\n",
        "  def fit(self, X, T):\n",
        "    \n",
        "    self._init_params()\n",
        "    loss_trace = []\n",
        "\n",
        "    for _ in range(self.n_epochs):\n",
        "      Z1, A1, Z2, A2, loss = self._forward(X, T)\n",
        "      dW1, dB1, dW2, dB2 = self._backward(X, Z1, A1, Z2, A2, T)\n",
        "      \n",
        "      # Problem 1.(f): fill here\n",
        "      self.first_layer_weights -= self.lr * dW1\n",
        "      self.first_layer_bias -= self.lr * dB1.reshape((2, ))\n",
        "      self.second_layer_weights -= self.lr * dW2\n",
        "      self.second_layer_bias -= self.lr * dB2.reshape((1, ))\n",
        "      \n",
        "      loss_trace.append(loss)\n",
        "\n",
        "    return loss_trace"
      ]
    },
    {
      "cell_type": "code",
      "execution_count": 12,
      "metadata": {
        "id": "LrrU89LYg9Ch"
      },
      "outputs": [],
      "source": [
        "# Problem 1.(g): fill here\n",
        "\n",
        "mlp = MLP(n_epochs=100000)\n",
        "X = np.array([[0, 0], [0, 1], [1, 0], [1, 1]])\n",
        "y = np.array([[0], [1], [1], [0]])\n",
        "loss_trace = mlp.fit(X, y)"
      ]
    },
    {
      "cell_type": "code",
      "execution_count": 13,
      "metadata": {
        "colab": {
          "base_uri": "https://localhost:8080/",
          "height": 279
        },
        "id": "HHn035KyleRt",
        "outputId": "ca8062a5-9344-48d9-e126-716ddb9adf2e"
      },
      "outputs": [
        {
          "data": {
            "image/png": "[encoded data removed]",
            "text/plain": [
              "<Figure size 640x480 with 1 Axes>"
            ]
          },
          "metadata": {},
          "output_type": "display_data"
        }
      ],
      "source": [
        "import matplotlib.pyplot as plt\n",
        "\n",
        "plt.plot(loss_trace)\n",
        "plt.ylabel('loss')\n",
        "plt.xlabel('epochs')\n",
        "plt.show()"
      ]
    },
    {
      "cell_type": "code",
      "execution_count": 14,
      "metadata": {
        "colab": {
          "base_uri": "https://localhost:8080/"
        },
        "id": "1vzx3NJTlodj",
        "outputId": "0758df98-c773-4c66-80b8-1d4c77a1174c"
      },
      "outputs": [
        {
          "name": "stdout",
          "output_type": "stream",
          "text": [
            "[[0.02448005]\n",
            " [0.98139953]\n",
            " [0.98133357]\n",
            " [0.02583242]]\n"
          ]
        }
      ],
      "source": [
        "# Print out XOR outputs for an input matrix X\n",
        "print(mlp.predict(X))"
      ]
    }
  ],
  "metadata": {
    "colab": {
      "collapsed_sections": [],
      "name": "[2021-1 AI] HW1-1_skeleton.ipynb",
      "provenance": []
    },
    "kernelspec": {
      "display_name": "Python 3",
      "name": "python3"
    },
    "language_info": {
      "codemirror_mode": {
        "name": "ipython",
        "version": 3
      },
      "file_extension": ".py",
      "mimetype": "text/x-python",
      "name": "python",
      "nbconvert_exporter": "python",
      "pygments_lexer": "ipython3",
      "version": "3.10.11"
    }
  },
  "nbformat": 4,
  "nbformat_minor": 0
}
