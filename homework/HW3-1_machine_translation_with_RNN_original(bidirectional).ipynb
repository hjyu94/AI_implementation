{
  "cells": [
    {
      "cell_type": "code",
      "execution_count": 1,
      "metadata": {
        "id": "c99vZqnbXF9u"
      },
      "outputs": [
        {
          "name": "stderr",
          "output_type": "stream",
          "text": [
            "/home/hyojeong/miniconda3/envs/tensorflow/lib/python3.10/site-packages/tqdm/auto.py:21: TqdmWarning: IProgress not found. Please update jupyter and ipywidgets. See https://ipywidgets.readthedocs.io/en/stable/user_install.html\n",
            "  from .autonotebook import tqdm as notebook_tqdm\n",
            "2023-07-26 14:45:57.432455: I tensorflow/core/platform/cpu_feature_guard.cc:193] This TensorFlow binary is optimized with oneAPI Deep Neural Network Library (oneDNN) to use the following CPU instructions in performance-critical operations:  SSE4.1 SSE4.2 AVX AVX2 FMA\n",
            "To enable them in other operations, rebuild TensorFlow with the appropriate compiler flags.\n"
          ]
        }
      ],
      "source": [
        "import numpy as np\n",
        "\n",
        "import tensorflow_datasets as tfds\n",
        "import tensorflow as tf"
      ]
    },
    {
      "cell_type": "code",
      "execution_count": 2,
      "metadata": {
        "id": "h_QSequDYVBv"
      },
      "outputs": [],
      "source": [
        "import matplotlib.pyplot as plt\n",
        "\n",
        "def plot_graphs(history, metric):\n",
        "  plt.plot(history.history[metric])\n",
        "  plt.plot(history.history['val_'+metric], '')\n",
        "  plt.xlabel(\"Epochs\")\n",
        "  plt.ylabel(metric)\n",
        "  plt.legend([metric, 'val_'+metric])"
      ]
    },
    {
      "cell_type": "code",
      "execution_count": 3,
      "metadata": {
        "id": "AkgLs5O1YotF"
      },
      "outputs": [],
      "source": [
        "dataset, info = tfds.load('imdb_reviews', with_info = True, as_supervised=True) # 영화 리뷰 데이터\n",
        "train_dataset, test_dataset = dataset['train'], dataset['test']"
      ]
    },
    {
      "cell_type": "code",
      "execution_count": 4,
      "metadata": {
        "id": "pf0EHQNHZCQR"
      },
      "outputs": [
        {
          "name": "stdout",
          "output_type": "stream",
          "text": [
            "text:  b\"This was an absolutely terrible movie. Don't be lured in by Christopher Walken or Michael Ironside. Both are great actors, but this must simply be their worst role in history. Even their great acting could not redeem this movie's ridiculous storyline. This movie is an early nineties US propaganda piece. The most pathetic scenes were those when the Columbian rebels were making their cases for revolutions. Maria Conchita Alonso appeared phony, and her pseudo-love affair with Walken was nothing but a pathetic emotional plug in a movie that was devoid of any real meaning. I am disappointed that there are movies like this, ruining actor's like Christopher Walken's good name. I could barely sit through it.\"\n",
            "label:  0\n"
          ]
        },
        {
          "name": "stderr",
          "output_type": "stream",
          "text": [
            "2023-07-26 14:46:04.741992: W tensorflow/core/kernels/data/cache_dataset_ops.cc:856] The calling iterator did not fully read the dataset being cached. In order to avoid unexpected truncation of the dataset, the partially cached contents of the dataset  will be discarded. This can happen if you have an input pipeline similar to `dataset.cache().take(k).repeat()`. You should use `dataset.take(k).cache().repeat()` instead.\n"
          ]
        }
      ],
      "source": [
        "for example, label in train_dataset.take(1):\n",
        "  print('text: ', example.numpy())\n",
        "  print('label: ', label.numpy())"
      ]
    },
    {
      "cell_type": "code",
      "execution_count": 5,
      "metadata": {
        "id": "myloxzrQaxlg"
      },
      "outputs": [],
      "source": [
        "BUFFER_SIZE = 10000\n",
        "BATCH_SIZE = 64"
      ]
    },
    {
      "cell_type": "code",
      "execution_count": 6,
      "metadata": {
        "id": "mx1HA4axa0rV"
      },
      "outputs": [],
      "source": [
        "# train_dataset = train_dataset.shuffle(BUFFER_SIZE).batch(BATCH_SIZE).prefetch(tf.data.AUTOTUNE)\n",
        "train_dataset = train_dataset.batch(BATCH_SIZE).prefetch(tf.data.AUTOTUNE)\n",
        "test_dataset = test_dataset.batch(BATCH_SIZE).prefetch(tf.data.AUTOTUNE)"
      ]
    },
    {
      "cell_type": "code",
      "execution_count": 7,
      "metadata": {
        "id": "xXDfQF2ua173"
      },
      "outputs": [
        {
          "name": "stdout",
          "output_type": "stream",
          "text": [
            "texts:  [b\"This was an absolutely terrible movie. Don't be lured in by Christopher Walken or Michael Ironside. Both are great actors, but this must simply be their worst role in history. Even their great acting could not redeem this movie's ridiculous storyline. This movie is an early nineties US propaganda piece. The most pathetic scenes were those when the Columbian rebels were making their cases for revolutions. Maria Conchita Alonso appeared phony, and her pseudo-love affair with Walken was nothing but a pathetic emotional plug in a movie that was devoid of any real meaning. I am disappointed that there are movies like this, ruining actor's like Christopher Walken's good name. I could barely sit through it.\"\n",
            " b'I have been known to fall asleep during films, but this is usually due to a combination of things including, really tired, being warm and comfortable on the sette and having just eaten a lot. However on this occasion I fell asleep because the film was rubbish. The plot development was constant. Constantly slow and boring. Things seemed to happen, but with no explanation of what was causing them or why. I admit, I may have missed part of the film, but i watched the majority of it and everything just seemed to happen of its own accord without any real concern for anything else. I cant recommend this film at all.'\n",
            " b'Mann photographs the Alberta Rocky Mountains in a superb fashion, and Jimmy Stewart and Walter Brennan give enjoyable performances as they always seem to do. <br /><br />But come on Hollywood - a Mountie telling the people of Dawson City, Yukon to elect themselves a marshal (yes a marshal!) and to enforce the law themselves, then gunfighters battling it out on the streets for control of the town? <br /><br />Nothing even remotely resembling that happened on the Canadian side of the border during the Klondike gold rush. Mr. Mann and company appear to have mistaken Dawson City for Deadwood, the Canadian North for the American Wild West.<br /><br />Canadian viewers be prepared for a Reefer Madness type of enjoyable howl with this ludicrous plot, or, to shake your head in disgust.']\n",
            "\n",
            "labels:  [0 0 0]\n"
          ]
        },
        {
          "name": "stderr",
          "output_type": "stream",
          "text": [
            "2023-07-26 14:46:19.233133: W tensorflow/core/kernels/data/cache_dataset_ops.cc:856] The calling iterator did not fully read the dataset being cached. In order to avoid unexpected truncation of the dataset, the partially cached contents of the dataset  will be discarded. This can happen if you have an input pipeline similar to `dataset.cache().take(k).repeat()`. You should use `dataset.take(k).cache().repeat()` instead.\n"
          ]
        }
      ],
      "source": [
        "for example, label in train_dataset.take(1):\n",
        "  print('texts: ', example.numpy()[:3])\n",
        "  print()\n",
        "  print('labels: ', label.numpy()[:3])"
      ]
    },
    {
      "attachments": {},
      "cell_type": "markdown",
      "metadata": {},
      "source": [
        "### ----------- Start test -------------"
      ]
    },
    {
      "cell_type": "code",
      "execution_count": 124,
      "metadata": {},
      "outputs": [
        {
          "name": "stdout",
          "output_type": "stream",
          "text": [
            "()\n",
            "text:  b\"This was an absolutely terrible movie. Don't be lured in by Christopher Walken or Michael Ironside. Both are great actors, but this must simply be their worst role in history. Even their great acting could not redeem this movie's ridiculous storyline. This movie is an early nineties US propaganda piece. The most pathetic scenes were those when the Columbian rebels were making their cases for revolutions. Maria Conchita Alonso appeared phony, and her pseudo-love affair with Walken was nothing but a pathetic emotional plug in a movie that was devoid of any real meaning. I am disappointed that there are movies like this, ruining actor's like Christopher Walken's good name. I could barely sit through it.\"\n",
            "label:  0 \n",
            "\n",
            "()\n",
            "text:  b'I have been known to fall asleep during films, but this is usually due to a combination of things including, really tired, being warm and comfortable on the sette and having just eaten a lot. However on this occasion I fell asleep because the film was rubbish. The plot development was constant. Constantly slow and boring. Things seemed to happen, but with no explanation of what was causing them or why. I admit, I may have missed part of the film, but i watched the majority of it and everything just seemed to happen of its own accord without any real concern for anything else. I cant recommend this film at all.'\n",
            "label:  0 \n",
            "\n",
            "()\n",
            "text:  b'Mann photographs the Alberta Rocky Mountains in a superb fashion, and Jimmy Stewart and Walter Brennan give enjoyable performances as they always seem to do. <br /><br />But come on Hollywood - a Mountie telling the people of Dawson City, Yukon to elect themselves a marshal (yes a marshal!) and to enforce the law themselves, then gunfighters battling it out on the streets for control of the town? <br /><br />Nothing even remotely resembling that happened on the Canadian side of the border during the Klondike gold rush. Mr. Mann and company appear to have mistaken Dawson City for Deadwood, the Canadian North for the American Wild West.<br /><br />Canadian viewers be prepared for a Reefer Madness type of enjoyable howl with this ludicrous plot, or, to shake your head in disgust.'\n",
            "label:  0 \n",
            "\n",
            "---- \n",
            "\n",
            "b\"This was an absolutely terrible movie. Don't be lured in by Christopher Walken or Michael Ironside. Both are great actors, but this must simply be their worst role in history. Even their great acting could not redeem this movie's ridiculous storyline. This movie is an early nineties US propaganda piece. The most pathetic scenes were those when the Columbian rebels were making their cases for revolutions. Maria Conchita Alonso appeared phony, and her pseudo-love affair with Walken was nothing but a pathetic emotional plug in a movie that was devoid of any real meaning. I am disappointed that there are movies like this, ruining actor's like Christopher Walken's good name. I could barely sit through it.\" \n",
            "\n",
            "b'I have been known to fall asleep during films, but this is usually due to a combination of things including, really tired, being warm and comfortable on the sette and having just eaten a lot. However on this occasion I fell asleep because the film was rubbish. The plot development was constant. Constantly slow and boring. Things seemed to happen, but with no explanation of what was causing them or why. I admit, I may have missed part of the film, but i watched the majority of it and everything just seemed to happen of its own accord without any real concern for anything else. I cant recommend this film at all.' \n",
            "\n",
            "(64,) \n",
            "\n",
            "labels:  [0 0 0] \n",
            "\n",
            "---- \n",
            "\n",
            "b\"Lisa Baumer (Ida Galli) is the adulteress wife of a big businessman who inherits $1million life insurance when her husband is killed in a plane crash while on a business trip\\xc2\\x85.initially she is suspected of being responsible as her husbands will had recently been changed and so she has an insurance investigator Peter Lynch (George Hilton)and an Interpol agent on her tail just to be sure. Baumer travels to Athens, Greece to cash in her inheritance, but insists on having it in cash...a dangerous turn of events. Lynch who's identity is now known to Baumer tries to protect her against a lover of her husband Lara Florakis who nevertheless along with her henchman Sharif tries to kill them both for a share of the money that she deems she is entitled to. And this is where our Masked killer starts his/her brutal killings. Lynch as is customary with our hero is at first suspected by the Greek Police and is warned not to leave Athens by Police Inspector Stavros(Luigi Pistilli a familiar face in Giallo and Spaghettis). Lynch is then aided by the gorgeous Cl\\xc3\\xa9o Dupont (Anita Strindberg) a local journalist who helps him investigate the killings.To say any more could ruin the film for anyone who has not seen it, so suffice to say there are enough red herrings and most of them plausible to keep Mystery/Thriller fans happy in this story driven Giallo.The No Shame DVD has a superb transfer with both English and Italian soundtrack. It also has a very catchy score just for good measure by Bruno Nicolai that will stay in your head for a while....all in all a first rate Giallo.\" \n",
            "\n",
            "b'Another review likened this troupe to a cross between Monty Python and Twin Peaks, also aptly. Yet another review expounded on the differences between the comedy we enjoy non-critically and black comedy, also well worth consideration.<br /><br />Watch the whole thing, all three series. At the end, all the characters are tied up and the puzzle pieces fall into place just as well as a Douglas Adams novel. The detail and intricacies are staggering. Thoroughly post-modern. Wickedly funny, and startlingly tragic. Not for kids. Not for those with thin skins or who lack objectivity. Thought-provoking. At once literal, figurative, and surreal in disturbing ways. The blackest comedy I can recall.<br /><br />And very possibly the most wonderful thing I will ever see.' \n",
            "\n",
            "(64,) \n",
            "\n",
            "labels:  [1 1 0] \n",
            "\n",
            "---- \n",
            "\n",
            "b'Credited by Variety to be one of the greatest documentaries to ever come out of Canada. Al Pacino, Roger Ebert, Neil Simon, Matt Dillon as well as a constant slew of celebs make this film a Canadian classic. The film is really best described as \"Roger & Me\" meets \"The Player\". Watch as Kenny Hotz and Spenny PITCH their script to the big boys of Hollywood. Called the only American film to ever come out of Canada, This film opened the Toronto Film Festival in 1997, Winner of the \\'Best Indie Film Award Toronto\\'. Europe premier was at the prestigious HOF film fest in Germany. U.S.A. premier U.S. Comedy Festival Aspen 1999. More information available at www.kennyhotz.com' \n",
            "\n",
            "b'I mean seriously what group would sing about a crazy car? So what if their ten, It\\'s way too immature for a little kid to sing about \"being my women\" I mean seriously! The name is pretty corny too, naked brothers? just because they take off their pants??? HOW CREATIVE.I don\\'t get why they need a TV show I mean most artist don\\'t really need a TV show about themselves, especially the naked brothers band. Heck how many of them are in the freaking group. And seriously whats with the movie? Jeez Nick use to be the hightlight of my years growing up but seriously The naked brother band? SO many parents would not let their kids watch this especially with the name the Naked Brother\\'s band, its a stupid, uncreative show that should not be aired onto TV.' \n",
            "\n",
            "(64,) \n",
            "\n",
            "labels:  [1 0 1] \n",
            "\n",
            "---- \n",
            "\n"
          ]
        },
        {
          "name": "stderr",
          "output_type": "stream",
          "text": [
            "2023-07-26 14:42:41.776262: W tensorflow/core/kernels/data/cache_dataset_ops.cc:856] The calling iterator did not fully read the dataset being cached. In order to avoid unexpected truncation of the dataset, the partially cached contents of the dataset  will be discarded. This can happen if you have an input pipeline similar to `dataset.cache().take(k).repeat()`. You should use `dataset.take(k).cache().repeat()` instead.\n",
            "2023-07-26 14:42:41.818243: W tensorflow/core/kernels/data/cache_dataset_ops.cc:856] The calling iterator did not fully read the dataset being cached. In order to avoid unexpected truncation of the dataset, the partially cached contents of the dataset  will be discarded. This can happen if you have an input pipeline similar to `dataset.cache().take(k).repeat()`. You should use `dataset.take(k).cache().repeat()` instead.\n"
          ]
        }
      ],
      "source": [
        "dataset, info = tfds.load('imdb_reviews', with_info = True, as_supervised=True) # 영화 리뷰 데이터\n",
        "train_dataset, test_dataset = dataset['train'], dataset['test']\n",
        "\n",
        "for example, label in train_dataset.take(3):\n",
        "  print(example.shape) # (): scalar, 긴 문장을 텍스트 데이터 하나로 표현한 것 \n",
        "  print('text: ', example.numpy())\n",
        "  print('label: ', label.numpy(), '\\n')\n",
        "\n",
        "print('----', '\\n')\n",
        "\n",
        "BUFFER_SIZE = 10000\n",
        "BATCH_SIZE = 64\n",
        "\n",
        "# train_dataset = train_dataset.shuffle(BUFFER_SIZE).batch(BATCH_SIZE).prefetch(tf.data.AUTOTUNE) # 섞으면 보기 힘들어서 \n",
        "train_dataset = train_dataset.batch(BATCH_SIZE).prefetch(tf.data.AUTOTUNE)\n",
        "\n",
        "for example, label in train_dataset.take(3):\n",
        "  print(example.numpy()[0], '\\n')\n",
        "  print(example.numpy()[1], '\\n')\n",
        "  print(example.numpy().shape, '\\n')\n",
        "  print('labels: ', label.numpy()[:3], '\\n')\n",
        "  print('----', '\\n')\n"
      ]
    },
    {
      "attachments": {},
      "cell_type": "markdown",
      "metadata": {},
      "source": [
        "### ----------- End test -------------"
      ]
    },
    {
      "cell_type": "code",
      "execution_count": 8,
      "metadata": {
        "id": "jVGNpR2EqIaA"
      },
      "outputs": [
        {
          "name": "stdout",
          "output_type": "stream",
          "text": [
            "WARNING:tensorflow:From /home/hyojeong/miniconda3/envs/tensorflow/lib/python3.10/site-packages/tensorflow/python/autograph/pyct/static_analysis/liveness.py:83: Analyzer.lamba_check (from tensorflow.python.autograph.pyct.static_analysis.liveness) is deprecated and will be removed after 2023-09-23.\n",
            "Instructions for updating:\n",
            "Lambda fuctions will be no more assumed to be used in the statement where they are used, or at least in the same block. https://github.com/tensorflow/tensorflow/issues/56089\n"
          ]
        },
        {
          "name": "stderr",
          "output_type": "stream",
          "text": [
            "WARNING:tensorflow:From /home/hyojeong/miniconda3/envs/tensorflow/lib/python3.10/site-packages/tensorflow/python/autograph/pyct/static_analysis/liveness.py:83: Analyzer.lamba_check (from tensorflow.python.autograph.pyct.static_analysis.liveness) is deprecated and will be removed after 2023-09-23.\n",
            "Instructions for updating:\n",
            "Lambda fuctions will be no more assumed to be used in the statement where they are used, or at least in the same block. https://github.com/tensorflow/tensorflow/issues/56089\n"
          ]
        }
      ],
      "source": [
        "VOCAB_SIZE = 1000\n",
        "tokenizer = tf.keras.layers.TextVectorization(max_tokens=VOCAB_SIZE) # A preprocessing layer which maps text features to integer sequences.\n",
        "tokenizer.adapt(train_dataset.map(lambda text, label: text))"
      ]
    },
    {
      "cell_type": "code",
      "execution_count": 9,
      "metadata": {
        "id": "8FpiSLmgqK2j"
      },
      "outputs": [
        {
          "name": "stdout",
          "output_type": "stream",
          "text": [
            "(1000,)\n",
            "['' '[UNK]' 'the' 'and' 'a' 'of' 'to' 'is' 'in' 'it' 'i' 'this' 'that'\n",
            " 'br' 'was' 'as' 'for' 'with' 'movie' 'but']\n",
            "14\n",
            "cinematography\n"
          ]
        }
      ],
      "source": [
        "vocab = np.array(tokenizer.get_vocabulary())\n",
        "vocab[:20]\n",
        "\n",
        "# -----------------------------------------------------------------\n",
        "print(vocab.shape)\n",
        "print(vocab[:20])\n",
        "\n",
        "max_length = max(len(s) for s in vocab)\n",
        "print(max_length)\n",
        "\n",
        "longest_string = [s for s in vocab if len(s) == max_length][0]\n",
        "print(longest_string)\n",
        "# -----------------------------------------------------------------"
      ]
    },
    {
      "cell_type": "code",
      "execution_count": 10,
      "metadata": {},
      "outputs": [
        {
          "name": "stdout",
          "output_type": "stream",
          "text": [
            "b\"This was an absolutely terrible movie. Don't be lured in by Christopher Walken or Michael Ironside. Both are great actors, but this must simply be their worst role in history. Even their great acting could not redeem this movie's ridiculous storyline. This movie is an early nineties US propaganda piece. The most pathetic scenes were those when the Columbian rebels were making their cases for revolutions. Maria Conchita Alonso appeared phony, and her pseudo-love affair with Walken was nothing but a pathetic emotional plug in a movie that was devoid of any real meaning. I am disappointed that there are movies like this, ruining actor's like Christopher Walken's good name. I could barely sit through it.\"\n",
            "(64,)\n",
            "---\n",
            "tf.Tensor(4093, shape=(), dtype=int32)\n",
            "---\n",
            "tokenzied ex:  (64, 707)\n"
          ]
        }
      ],
      "source": [
        "# -----------------------------------------------------------------\n",
        "print(example.numpy()[0])\n",
        "print(example.shape)\n",
        "# example 에는 64개의 문장이 들어 있었음 (\"I am a teacher\", \"You are a student\", ...) 이런 64개 문장\n",
        "print('---')\n",
        "\n",
        "max_length = max(tf.strings.length(e) for e in example)\n",
        "print(max_length) # 4093. 즉 가장 단어가 많은 문장은 총 3480개의 단어로 이루어져 있음\n",
        "print('---')\n",
        "\n",
        "tokenized_example = tokenizer(example)\n",
        "print(\"tokenzied ex: \", tokenized_example.shape) # (64, 707)\n",
        "# -----------------------------------------------------------------\n",
        "# 만약 각 원소가 길이가 3482인 토큰 시퀀스를 가지고 있었다면, tokenizer(example)을 통해 토크나이징된 결과인 tokenized_example의 shape은 (64, 3482)가 되어야 합니다. 각 문장이 3482개의 토큰으로 이루어진 행렬이 되는 것이기 때문입니다.\n",
        "#\n",
        "# 하지만 실제로는 tokenized_example의 shape이 (64, 626)인데, 이는 각 문장이 626개의 토큰으로 이루어져 있다는 것을 의미합니다. 이로 인해 tokenized_example의 토큰 개수가 3482보다 적어지게 된 것입니다.\n",
        "# \n",
        "# 이러한 현상이 발생하는 이유는 TextVectorization 레이어가 기본적으로 설정되어 있는 동작 때문입니다. 기본적으로 TextVectorization 레이어는 입력 텍스트를 토큰화한 후 토큰들을 어휘 사전에 매핑하고, 어휘 사전에 없는 토큰들은 무시하고, 존재하는 토큰들만 남겨둡니다.\n",
        "# \n",
        "# 따라서, 토크나이징 결과에서 특정 토큰의 개수가 3482개로 채워지지 않고, 어휘 사전에 존재하는 토큰만 남게 되어서 tokenized_example의 shape이 (64, 626)으로 나타나게 됩니다.\n",
        "# \n",
        "# 이를 해결하기 위해서는 TextVectorization 레이어의 max_tokens 매개변수를 설정하여 어휘 사전의 크기를 제한하거나, output_sequence_length를 조정하여 토큰 시퀀스의 길이를 특정 크기로 맞추는 등의 방법을 사용할 수 있습니다. 자세한 설정 방법은 TextVectorization 레이어의 공식 문서를 참고하시면 됩니다."
      ]
    },
    {
      "cell_type": "code",
      "execution_count": 17,
      "metadata": {},
      "outputs": [
        {
          "name": "stdout",
          "output_type": "stream",
          "text": [
            "tf.Tensor(b\"This was an absolutely terrible movie. Don't be lured in by Christopher Walken or Michael Ironside. Both are great actors, but this must simply be their worst role in history. Even their great acting could not redeem this movie's ridiculous storyline. This movie is an early nineties US propaganda piece. The most pathetic scenes were those when the Columbian rebels were making their cases for revolutions. Maria Conchita Alonso appeared phony, and her pseudo-love affair with Walken was nothing but a pathetic emotional plug in a movie that was devoid of any real meaning. I am disappointed that there are movies like this, ruining actor's like Christopher Walken's good name. I could barely sit through it.\", shape=(), dtype=string)\n",
            "tf.Tensor(709, shape=(), dtype=int32)\n",
            "tf.Tensor(\n",
            "[ 11  14  34 412 384  18  90  28   1   8  33   1   1  42 487   1 191  24\n",
            "  85 152  19  11 217 316  28  65 240 214   8 489  54  65  85 112  96  22\n",
            "   1  11  93 642 743  11  18   7  34 394   1 170   1 408   2  88   1 137\n",
            "  66 144  51   2   1   1  66 245  65   1  16   1   1   1   1   1   1   3\n",
            "  40   1   1  17   1  14 158  19   4   1 891   1   8   4  18  12  14   1\n",
            "   5  99 146   1  10 237 704  12  48  24  93  39  11   1 152  39   1   1\n",
            "  50 398  10  96   1 851 141   9   0   0   0   0   0   0   0   0   0   0\n",
            "   0   0   0   0   0   0   0   0   0   0   0   0   0   0   0   0   0   0\n",
            "   0   0   0   0   0   0   0   0   0   0   0   0   0   0   0   0   0   0\n",
            "   0   0   0   0   0   0   0   0   0   0   0   0   0   0   0   0   0   0\n",
            "   0   0   0   0   0   0   0   0   0   0   0   0   0   0   0   0   0   0\n",
            "   0   0   0   0   0   0   0   0   0   0   0   0   0   0   0   0   0   0\n",
            "   0   0   0   0   0   0   0   0   0   0   0   0   0   0   0   0   0   0\n",
            "   0   0   0   0   0   0   0   0   0   0   0   0   0   0   0   0   0   0\n",
            "   0   0   0   0   0   0   0   0   0   0   0   0   0   0   0   0   0   0\n",
            "   0   0   0   0   0   0   0   0   0   0   0   0   0   0   0   0   0   0\n",
            "   0   0   0   0   0   0   0   0   0   0   0   0   0   0   0   0   0   0\n",
            "   0   0   0   0   0   0   0   0   0   0   0   0   0   0   0   0   0   0\n",
            "   0   0   0   0   0   0   0   0   0   0   0   0   0   0   0   0   0   0\n",
            "   0   0   0   0   0   0   0   0   0   0   0   0   0   0   0   0   0   0\n",
            "   0   0   0   0   0   0   0   0   0   0   0   0   0   0   0   0   0   0\n",
            "   0   0   0   0   0   0   0   0   0   0   0   0   0   0   0   0   0   0\n",
            "   0   0   0   0   0   0   0   0   0   0   0   0   0   0   0   0   0   0\n",
            "   0   0   0   0   0   0   0   0   0   0   0   0   0   0   0   0   0   0\n",
            "   0   0   0   0   0   0   0   0   0   0   0   0   0   0   0   0   0   0\n",
            "   0   0   0   0   0   0   0   0   0   0   0   0   0   0   0   0   0   0\n",
            "   0   0   0   0   0   0   0   0   0   0   0   0   0   0   0   0   0   0\n",
            "   0   0   0   0   0   0   0   0   0   0   0   0   0   0   0   0   0   0\n",
            "   0   0   0   0   0   0   0   0   0   0   0   0   0   0   0   0   0   0\n",
            "   0   0   0   0   0   0   0   0   0   0   0   0   0   0   0   0   0   0\n",
            "   0   0   0   0   0   0   0   0   0   0   0   0   0   0   0   0   0   0\n",
            "   0   0   0   0   0   0   0   0   0   0   0   0   0   0   0   0   0   0\n",
            "   0   0   0   0   0   0   0   0   0   0   0   0   0   0   0   0   0   0\n",
            "   0   0   0   0   0   0   0   0   0   0   0   0   0   0   0   0   0   0\n",
            "   0   0   0   0   0   0   0   0   0   0   0   0   0   0   0   0   0   0\n",
            "   0   0   0   0   0   0   0   0   0   0   0   0   0   0   0   0   0   0\n",
            "   0   0   0   0   0   0   0   0   0   0   0   0   0   0   0   0   0   0\n",
            "   0   0   0   0   0   0   0   0   0   0   0   0   0   0   0   0   0   0\n",
            "   0   0   0   0   0   0   0   0   0   0   0   0   0   0   0   0   0   0\n",
            "   0   0   0   0   0], shape=(707,), dtype=int64)\n"
          ]
        }
      ],
      "source": [
        "# -----------------------------------------------------------------\n",
        "print(example[0])\n",
        "print(tf.strings.length(example[0]))\n",
        "print(tokenized_example[0]) # ?? 왜 2개 줄었지 늘어난게 아니라???\n",
        "# -----------------------------------------------------------------"
      ]
    },
    {
      "cell_type": "code",
      "execution_count": 88,
      "metadata": {
        "id": "CeSz-A8MqMAF"
      },
      "outputs": [
        {
          "data": {
            "text/plain": [
              "array([[11, 14, 34, ...,  0,  0,  0],\n",
              "       [10, 26, 75, ...,  0,  0,  0],\n",
              "       [ 1,  1,  2, ...,  0,  0,  0]])"
            ]
          },
          "execution_count": 88,
          "metadata": {},
          "output_type": "execute_result"
        }
      ],
      "source": [
        "\n",
        "tokenized_example = tokenizer(example)[:3].numpy()\n",
        "tokenized_example"
      ]
    },
    {
      "cell_type": "code",
      "execution_count": 18,
      "metadata": {
        "id": "R3h21kIBqNEP"
      },
      "outputs": [
        {
          "name": "stdout",
          "output_type": "stream",
          "text": [
            "Original:  b\"This was an absolutely terrible movie. Don't be lured in by Christopher Walken or Michael Ironside. Both are great actors, but this must simply be their worst role in history. Even their great acting could not redeem this movie's ridiculous storyline. This movie is an early nineties US propaganda piece. The most pathetic scenes were those when the Columbian rebels were making their cases for revolutions. Maria Conchita Alonso appeared phony, and her pseudo-love affair with Walken was nothing but a pathetic emotional plug in a movie that was devoid of any real meaning. I am disappointed that there are movies like this, ruining actor's like Christopher Walken's good name. I could barely sit through it.\"\n",
            "Round-trip:  this was an absolutely terrible movie dont be [UNK] in by [UNK] [UNK] or michael [UNK] both are great actors but this must simply be their worst role in history even their great acting could not [UNK] this movies ridiculous storyline this movie is an early [UNK] us [UNK] piece the most [UNK] scenes were those when the [UNK] [UNK] were making their [UNK] for [UNK] [UNK] [UNK] [UNK] [UNK] [UNK] and her [UNK] [UNK] with [UNK] was nothing but a [UNK] emotional [UNK] in a movie that was [UNK] of any real [UNK] i am disappointed that there are movies like this [UNK] actors like [UNK] [UNK] good name i could [UNK] sit through it                                                                                                                                                                                                                                                                                                                                                                                                                                                                                                                                                                                                               \n",
            "\n",
            "Original:  b'I have been known to fall asleep during films, but this is usually due to a combination of things including, really tired, being warm and comfortable on the sette and having just eaten a lot. However on this occasion I fell asleep because the film was rubbish. The plot development was constant. Constantly slow and boring. Things seemed to happen, but with no explanation of what was causing them or why. I admit, I may have missed part of the film, but i watched the majority of it and everything just seemed to happen of its own accord without any real concern for anything else. I cant recommend this film at all.'\n",
            "Round-trip:  i have been known to fall [UNK] during films but this is usually due to a [UNK] of things including really [UNK] being [UNK] and [UNK] on the [UNK] and having just [UNK] a lot however on this [UNK] i [UNK] [UNK] because the film was [UNK] the plot development was [UNK] [UNK] slow and boring things seemed to happen but with no [UNK] of what was [UNK] them or why i admit i may have [UNK] part of the film but i watched the [UNK] of it and everything just seemed to happen of its own [UNK] without any real [UNK] for anything else i cant recommend this film at all                                                                                                                                                                                                                                                                                                                                                                                                                                                                                                                                                                                                                   \n",
            "\n",
            "Original:  b'Mann photographs the Alberta Rocky Mountains in a superb fashion, and Jimmy Stewart and Walter Brennan give enjoyable performances as they always seem to do. <br /><br />But come on Hollywood - a Mountie telling the people of Dawson City, Yukon to elect themselves a marshal (yes a marshal!) and to enforce the law themselves, then gunfighters battling it out on the streets for control of the town? <br /><br />Nothing even remotely resembling that happened on the Canadian side of the border during the Klondike gold rush. Mr. Mann and company appear to have mistaken Dawson City for Deadwood, the Canadian North for the American Wild West.<br /><br />Canadian viewers be prepared for a Reefer Madness type of enjoyable howl with this ludicrous plot, or, to shake your head in disgust.'\n",
            "Round-trip:  [UNK] [UNK] the [UNK] [UNK] [UNK] in a superb [UNK] and [UNK] [UNK] and [UNK] [UNK] give enjoyable performances as they always seem to do br br but come on hollywood a [UNK] [UNK] the people of [UNK] city [UNK] to [UNK] themselves a [UNK] yes a [UNK] and to [UNK] the [UNK] themselves then [UNK] [UNK] it out on the [UNK] for [UNK] of the town br br nothing even [UNK] [UNK] that happened on the [UNK] side of the [UNK] during the [UNK] [UNK] [UNK] mr [UNK] and [UNK] appear to have [UNK] [UNK] city for [UNK] the [UNK] [UNK] for the american [UNK] [UNK] br [UNK] viewers be [UNK] for a [UNK] [UNK] type of enjoyable [UNK] with this [UNK] plot or to [UNK] your head in [UNK]                                                                                                                                                                                                                                                                                                                                                                                                                                                                                                                                                                                                \n",
            "\n"
          ]
        }
      ],
      "source": [
        "for n in range(3):\n",
        "  print(\"Original: \", example[n].numpy())\n",
        "  print(\"Round-trip: \", \" \".join(vocab[tokenized_example[n]])) # 즉 tokenized_example 에는 index 가 들어있음\n",
        "  print()"
      ]
    },
    {
      "cell_type": "code",
      "execution_count": 28,
      "metadata": {
        "id": "hLkoDR6wqOXC"
      },
      "outputs": [
        {
          "ename": "AttributeError",
          "evalue": "module 'keras.api._v2.keras.layers' has no attribute 'Unidirectional'",
          "output_type": "error",
          "traceback": [
            "\u001b[0;31m---------------------------------------------------------------------------\u001b[0m",
            "\u001b[0;31mAttributeError\u001b[0m                            Traceback (most recent call last)",
            "Cell \u001b[0;32mIn[28], line 7\u001b[0m\n\u001b[1;32m      1\u001b[0m model \u001b[39m=\u001b[39m tf\u001b[39m.\u001b[39mkeras\u001b[39m.\u001b[39mSequential([\n\u001b[1;32m      2\u001b[0m     tokenizer,\n\u001b[1;32m      3\u001b[0m     tf\u001b[39m.\u001b[39mkeras\u001b[39m.\u001b[39mlayers\u001b[39m.\u001b[39mEmbedding(\n\u001b[1;32m      4\u001b[0m         input_dim\u001b[39m=\u001b[39m\u001b[39mlen\u001b[39m(tokenizer\u001b[39m.\u001b[39mget_vocabulary()),\n\u001b[1;32m      5\u001b[0m         output_dim\u001b[39m=\u001b[39m\u001b[39m64\u001b[39m,\n\u001b[1;32m      6\u001b[0m         mask_zero\u001b[39m=\u001b[39m\u001b[39mTrue\u001b[39;00m),\n\u001b[0;32m----> 7\u001b[0m     tf\u001b[39m.\u001b[39;49mkeras\u001b[39m.\u001b[39;49mlayers\u001b[39m.\u001b[39;49mUnidirectional(tf\u001b[39m.\u001b[39mkeras\u001b[39m.\u001b[39mlayers\u001b[39m.\u001b[39mLSTM(\u001b[39m64\u001b[39m)),\n\u001b[1;32m      8\u001b[0m     tf\u001b[39m.\u001b[39mkeras\u001b[39m.\u001b[39mlayers\u001b[39m.\u001b[39mDense(\u001b[39m64\u001b[39m, activation\u001b[39m=\u001b[39m\u001b[39m'\u001b[39m\u001b[39mrelu\u001b[39m\u001b[39m'\u001b[39m),\n\u001b[1;32m      9\u001b[0m     tf\u001b[39m.\u001b[39mkeras\u001b[39m.\u001b[39mlayers\u001b[39m.\u001b[39mDense(\u001b[39m1\u001b[39m)\n\u001b[1;32m     10\u001b[0m ])\n",
            "\u001b[0;31mAttributeError\u001b[0m: module 'keras.api._v2.keras.layers' has no attribute 'Unidirectional'"
          ]
        }
      ],
      "source": [
        "model = tf.keras.Sequential([\n",
        "    tokenizer,\n",
        "    tf.keras.layers.Embedding(\n",
        "        input_dim=len(tokenizer.get_vocabulary()),\n",
        "        output_dim=64,\n",
        "        mask_zero=True),\n",
        "    # tf.keras.layers.Bidirectional(tf.keras.layers.LSTM(64)),\n",
        "    tf.keras.layers.Dense(64, activation='relu'),\n",
        "    tf.keras.layers.Dense(1)\n",
        "])"
      ]
    },
    {
      "cell_type": "code",
      "execution_count": 20,
      "metadata": {
        "id": "NVFUAbROqSCE"
      },
      "outputs": [
        {
          "name": "stdout",
          "output_type": "stream",
          "text": [
            "[False, True, True, True, True]\n"
          ]
        }
      ],
      "source": [
        "print([layer.supports_masking for layer in model.layers])"
      ]
    },
    {
      "cell_type": "code",
      "execution_count": 21,
      "metadata": {
        "id": "MP_pptGXqTGH"
      },
      "outputs": [
        {
          "name": "stdout",
          "output_type": "stream",
          "text": [
            "1/1 [==============================] - 2s 2s/step\n",
            "[-0.0016624]\n"
          ]
        }
      ],
      "source": [
        "sample_text = ('The movie was cool. The animation and the graphics '\n",
        "               'were out of this world. I would recommend this movie.')\n",
        "predictions = model.predict(np.array([sample_text]))\n",
        "print(predictions[0])"
      ]
    },
    {
      "cell_type": "code",
      "execution_count": 22,
      "metadata": {
        "id": "-78BGTr4qUA1"
      },
      "outputs": [
        {
          "name": "stdout",
          "output_type": "stream",
          "text": [
            "1/1 [==============================] - 0s 45ms/step\n",
            "[-0.0016624]\n"
          ]
        }
      ],
      "source": [
        "padding = \"the \" * 2000\n",
        "predictions = model.predict(np.array([sample_text, padding]))\n",
        "print(predictions[0])"
      ]
    },
    {
      "cell_type": "code",
      "execution_count": 23,
      "metadata": {
        "id": "QJw84xD9qV2O"
      },
      "outputs": [],
      "source": [
        "model.compile(loss=tf.keras.losses.BinaryCrossentropy(from_logits=True),\n",
        "              optimizer=tf.keras.optimizers.Adam(1e-4),\n",
        "              metrics=['accuracy'])"
      ]
    },
    {
      "cell_type": "code",
      "execution_count": 24,
      "metadata": {
        "id": "OQSRagx8qXZq"
      },
      "outputs": [
        {
          "name": "stdout",
          "output_type": "stream",
          "text": [
            "Epoch 1/10\n"
          ]
        },
        {
          "name": "stderr",
          "output_type": "stream",
          "text": [
            "2023-07-26 14:54:38.982504: W tensorflow/core/common_runtime/type_inference.cc:339] Type inference failed. This indicates an invalid graph that escaped type checking. Error message: INVALID_ARGUMENT: expected compatible input types, but input 1:\n",
            "type_id: TFT_OPTIONAL\n",
            "args {\n",
            "  type_id: TFT_PRODUCT\n",
            "  args {\n",
            "    type_id: TFT_TENSOR\n",
            "    args {\n",
            "      type_id: TFT_INT32\n",
            "    }\n",
            "  }\n",
            "}\n",
            " is neither a subtype nor a supertype of the combined inputs preceding it:\n",
            "type_id: TFT_OPTIONAL\n",
            "args {\n",
            "  type_id: TFT_PRODUCT\n",
            "  args {\n",
            "    type_id: TFT_TENSOR\n",
            "    args {\n",
            "      type_id: TFT_FLOAT\n",
            "    }\n",
            "  }\n",
            "}\n",
            "\n",
            "\twhile inferring type of node 'cond_40/output/_23'\n"
          ]
        },
        {
          "name": "stdout",
          "output_type": "stream",
          "text": [
            "391/391 [==============================] - 34s 77ms/step - loss: 0.6540 - accuracy: 0.5531 - val_loss: 0.5062 - val_accuracy: 0.7193\n",
            "Epoch 2/10\n",
            "  3/391 [..............................] - ETA: 17s - loss: 0.4729 - accuracy: 0.7344"
          ]
        },
        {
          "name": "stderr",
          "output_type": "stream",
          "text": [
            "2023-07-26 14:55:10.230236: W tensorflow/core/kernels/data/cache_dataset_ops.cc:856] The calling iterator did not fully read the dataset being cached. In order to avoid unexpected truncation of the dataset, the partially cached contents of the dataset  will be discarded. This can happen if you have an input pipeline similar to `dataset.cache().take(k).repeat()`. You should use `dataset.take(k).cache().repeat()` instead.\n"
          ]
        },
        {
          "name": "stdout",
          "output_type": "stream",
          "text": [
            "391/391 [==============================] - 21s 54ms/step - loss: 0.4820 - accuracy: 0.7716 - val_loss: 0.4201 - val_accuracy: 0.8198\n",
            "Epoch 3/10\n",
            "  3/391 [..............................] - ETA: 18s - loss: 0.3879 - accuracy: 0.8438"
          ]
        },
        {
          "name": "stderr",
          "output_type": "stream",
          "text": [
            "2023-07-26 14:55:31.216303: W tensorflow/core/kernels/data/cache_dataset_ops.cc:856] The calling iterator did not fully read the dataset being cached. In order to avoid unexpected truncation of the dataset, the partially cached contents of the dataset  will be discarded. This can happen if you have an input pipeline similar to `dataset.cache().take(k).repeat()`. You should use `dataset.take(k).cache().repeat()` instead.\n"
          ]
        },
        {
          "name": "stdout",
          "output_type": "stream",
          "text": [
            "391/391 [==============================] - 21s 54ms/step - loss: 0.3839 - accuracy: 0.8208 - val_loss: 0.3638 - val_accuracy: 0.8542\n",
            "Epoch 4/10\n",
            "  3/391 [..............................] - ETA: 16s - loss: 0.2993 - accuracy: 0.9010"
          ]
        },
        {
          "name": "stderr",
          "output_type": "stream",
          "text": [
            "2023-07-26 14:55:52.349150: W tensorflow/core/kernels/data/cache_dataset_ops.cc:856] The calling iterator did not fully read the dataset being cached. In order to avoid unexpected truncation of the dataset, the partially cached contents of the dataset  will be discarded. This can happen if you have an input pipeline similar to `dataset.cache().take(k).repeat()`. You should use `dataset.take(k).cache().repeat()` instead.\n"
          ]
        },
        {
          "name": "stdout",
          "output_type": "stream",
          "text": [
            "391/391 [==============================] - 21s 54ms/step - loss: 0.3432 - accuracy: 0.8484 - val_loss: 0.3439 - val_accuracy: 0.8609\n",
            "Epoch 5/10\n",
            "  3/391 [..............................] - ETA: 17s - loss: 0.2848 - accuracy: 0.8906"
          ]
        },
        {
          "name": "stderr",
          "output_type": "stream",
          "text": [
            "2023-07-26 14:56:13.297981: W tensorflow/core/kernels/data/cache_dataset_ops.cc:856] The calling iterator did not fully read the dataset being cached. In order to avoid unexpected truncation of the dataset, the partially cached contents of the dataset  will be discarded. This can happen if you have an input pipeline similar to `dataset.cache().take(k).repeat()`. You should use `dataset.take(k).cache().repeat()` instead.\n"
          ]
        },
        {
          "name": "stdout",
          "output_type": "stream",
          "text": [
            "391/391 [==============================] - 21s 54ms/step - loss: 0.3236 - accuracy: 0.8603 - val_loss: 0.3318 - val_accuracy: 0.8609\n",
            "Epoch 6/10\n",
            "  4/391 [..............................] - ETA: 18s - loss: 0.2848 - accuracy: 0.8906"
          ]
        },
        {
          "name": "stderr",
          "output_type": "stream",
          "text": [
            "2023-07-26 14:56:34.260152: W tensorflow/core/kernels/data/cache_dataset_ops.cc:856] The calling iterator did not fully read the dataset being cached. In order to avoid unexpected truncation of the dataset, the partially cached contents of the dataset  will be discarded. This can happen if you have an input pipeline similar to `dataset.cache().take(k).repeat()`. You should use `dataset.take(k).cache().repeat()` instead.\n"
          ]
        },
        {
          "name": "stdout",
          "output_type": "stream",
          "text": [
            "391/391 [==============================] - 21s 54ms/step - loss: 0.3129 - accuracy: 0.8670 - val_loss: 0.3262 - val_accuracy: 0.8630\n",
            "Epoch 7/10\n",
            "  4/391 [..............................] - ETA: 17s - loss: 0.2793 - accuracy: 0.8945"
          ]
        },
        {
          "name": "stderr",
          "output_type": "stream",
          "text": [
            "2023-07-26 14:56:55.233727: W tensorflow/core/kernels/data/cache_dataset_ops.cc:856] The calling iterator did not fully read the dataset being cached. In order to avoid unexpected truncation of the dataset, the partially cached contents of the dataset  will be discarded. This can happen if you have an input pipeline similar to `dataset.cache().take(k).repeat()`. You should use `dataset.take(k).cache().repeat()` instead.\n"
          ]
        },
        {
          "name": "stdout",
          "output_type": "stream",
          "text": [
            "391/391 [==============================] - 21s 53ms/step - loss: 0.3061 - accuracy: 0.8712 - val_loss: 0.3241 - val_accuracy: 0.8625\n",
            "Epoch 8/10\n",
            "  4/391 [..............................] - ETA: 17s - loss: 0.2778 - accuracy: 0.8984"
          ]
        },
        {
          "name": "stderr",
          "output_type": "stream",
          "text": [
            "2023-07-26 14:57:16.149778: W tensorflow/core/kernels/data/cache_dataset_ops.cc:856] The calling iterator did not fully read the dataset being cached. In order to avoid unexpected truncation of the dataset, the partially cached contents of the dataset  will be discarded. This can happen if you have an input pipeline similar to `dataset.cache().take(k).repeat()`. You should use `dataset.take(k).cache().repeat()` instead.\n"
          ]
        },
        {
          "name": "stdout",
          "output_type": "stream",
          "text": [
            "391/391 [==============================] - 21s 53ms/step - loss: 0.3021 - accuracy: 0.8725 - val_loss: 0.3236 - val_accuracy: 0.8615\n",
            "Epoch 9/10\n",
            "  4/391 [..............................] - ETA: 18s - loss: 0.2782 - accuracy: 0.8945"
          ]
        },
        {
          "name": "stderr",
          "output_type": "stream",
          "text": [
            "2023-07-26 14:57:37.046782: W tensorflow/core/kernels/data/cache_dataset_ops.cc:856] The calling iterator did not fully read the dataset being cached. In order to avoid unexpected truncation of the dataset, the partially cached contents of the dataset  will be discarded. This can happen if you have an input pipeline similar to `dataset.cache().take(k).repeat()`. You should use `dataset.take(k).cache().repeat()` instead.\n"
          ]
        },
        {
          "name": "stdout",
          "output_type": "stream",
          "text": [
            "391/391 [==============================] - 21s 54ms/step - loss: 0.2993 - accuracy: 0.8739 - val_loss: 0.3240 - val_accuracy: 0.8630\n",
            "Epoch 10/10\n",
            "  4/391 [..............................] - ETA: 17s - loss: 0.2781 - accuracy: 0.8984"
          ]
        },
        {
          "name": "stderr",
          "output_type": "stream",
          "text": [
            "2023-07-26 14:57:58.087429: W tensorflow/core/kernels/data/cache_dataset_ops.cc:856] The calling iterator did not fully read the dataset being cached. In order to avoid unexpected truncation of the dataset, the partially cached contents of the dataset  will be discarded. This can happen if you have an input pipeline similar to `dataset.cache().take(k).repeat()`. You should use `dataset.take(k).cache().repeat()` instead.\n"
          ]
        },
        {
          "name": "stdout",
          "output_type": "stream",
          "text": [
            "391/391 [==============================] - 21s 53ms/step - loss: 0.2974 - accuracy: 0.8752 - val_loss: 0.3249 - val_accuracy: 0.8646\n"
          ]
        },
        {
          "name": "stderr",
          "output_type": "stream",
          "text": [
            "2023-07-26 14:58:18.976274: W tensorflow/core/kernels/data/cache_dataset_ops.cc:856] The calling iterator did not fully read the dataset being cached. In order to avoid unexpected truncation of the dataset, the partially cached contents of the dataset  will be discarded. This can happen if you have an input pipeline similar to `dataset.cache().take(k).repeat()`. You should use `dataset.take(k).cache().repeat()` instead.\n"
          ]
        }
      ],
      "source": [
        "history = model.fit(train_dataset, epochs=10,\n",
        "                    validation_data=test_dataset,\n",
        "                    validation_steps=30)"
      ]
    },
    {
      "cell_type": "code",
      "execution_count": 25,
      "metadata": {
        "id": "OKGvrNfqqYS9"
      },
      "outputs": [
        {
          "name": "stdout",
          "output_type": "stream",
          "text": [
            "391/391 [==============================] - 9s 24ms/step - loss: 0.3181 - accuracy: 0.8635\n",
            "Test Loss: 0.31811344623565674\n",
            "Test Accuracy: 0.8634799718856812\n"
          ]
        }
      ],
      "source": [
        "test_loss, test_acc = model.evaluate(test_dataset)\n",
        "\n",
        "print('Test Loss:', test_loss)\n",
        "print('Test Accuracy:', test_acc)"
      ]
    },
    {
      "cell_type": "code",
      "execution_count": 26,
      "metadata": {
        "id": "OA0-Rp9tqaU6"
      },
      "outputs": [
        {
          "data": {
            "text/plain": [
              "(0.0, 0.6718330979347229)"
            ]
          },
          "execution_count": 26,
          "metadata": {},
          "output_type": "execute_result"
        },
        {
          "data": {
            "image/png": "[encoded data removed]",
            "text/plain": [
              "<Figure size 1600x800 with 2 Axes>"
            ]
          },
          "metadata": {},
          "output_type": "display_data"
        }
      ],
      "source": [
        "plt.figure(figsize=(16, 8))\n",
        "plt.subplot(1, 2, 1)\n",
        "plot_graphs(history, 'accuracy')\n",
        "plt.ylim(None, 1)\n",
        "plt.subplot(1, 2, 2)\n",
        "plot_graphs(history, 'loss')\n",
        "plt.ylim(0, None)"
      ]
    },
    {
      "cell_type": "code",
      "execution_count": 27,
      "metadata": {
        "id": "6OU0vn46qapS"
      },
      "outputs": [
        {
          "name": "stdout",
          "output_type": "stream",
          "text": [
            "1/1 [==============================] - 1s 1s/step\n",
            "[[0.8326687]]\n"
          ]
        }
      ],
      "source": [
        "sample_text = ('The movie was cool. The animation and the graphics '\n",
        "               'were out of this world. I would recommend this movie.')\n",
        "predictions = model.predict(np.array([sample_text]))\n",
        "print(predictions)"
      ]
    }
  ],
  "metadata": {
    "accelerator": "GPU",
    "colab": {
      "collapsed_sections": [],
      "name": "HW3.ipynb",
      "provenance": []
    },
    "kernelspec": {
      "display_name": "Python 3",
      "name": "python3"
    },
    "language_info": {
      "codemirror_mode": {
        "name": "ipython",
        "version": 3
      },
      "file_extension": ".py",
      "mimetype": "text/x-python",
      "name": "python",
      "nbconvert_exporter": "python",
      "pygments_lexer": "ipython3",
      "version": "3.10.11"
    }
  },
  "nbformat": 4,
  "nbformat_minor": 0
}
