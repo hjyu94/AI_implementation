{
 "cells": [
  {
   "attachments": {},
   "cell_type": "markdown",
   "metadata": {},
   "source": [
    "### Dataset\n",
    "\n",
    "Dataset for Regression"
   ]
  },
  {
   "cell_type": "code",
   "execution_count": 8,
   "metadata": {},
   "outputs": [
    {
     "name": "stdout",
     "output_type": "stream",
     "text": [
      "(8, 5) (5,) (1,)\n",
      "tf.Tensor(\n",
      "[[-0.6421033  -0.23010577 -0.51593393  1.0977602   0.26147994]\n",
      " [-1.5400904  -1.4030511  -0.24492961 -0.13266836 -0.16914383]\n",
      " [-0.70119256 -1.1824311  -0.15523043 -1.9543003  -0.28918487]\n",
      " [ 1.1552922   0.69531167  1.2866268   0.88829875 -0.35721204]\n",
      " [ 1.1572047  -0.4251278  -0.57095844 -0.86438787 -0.52674776]\n",
      " [ 1.9840958  -0.8921102   1.6990887   0.32883123  1.6194074 ]\n",
      " [ 0.12183033  1.0497817  -0.37162668  1.0963237  -0.6430563 ]\n",
      " [ 0.21582466  1.4849299  -1.1628753  -0.24230938  0.07388506]], shape=(8, 5), dtype=float32)\n",
      "(8, 5)\n",
      "tf.Tensor(\n",
      "[13.048325   3.5426254 -2.7948723 18.172932   2.5027838 24.709503\n",
      " 12.276527   9.097246 ], shape=(8,), dtype=float32)\n",
      "(8,)\n"
     ]
    }
   ],
   "source": [
    "import tensorflow as tf\n",
    "\n",
    "N, n_feature = 8, 5 # y = w1x1 + w2x2+ ... + w5x5\n",
    "t_weights = tf.constant((1, 2, 3, 4, 5), dtype=tf.float32) # (5, ) neruon 1\n",
    "t_bias = tf.constant([10], dtype=tf.float32)\n",
    "\n",
    "X = tf.random.normal(mean=0, stddev=1, shape=(N, n_feature))\n",
    "print(X.shape, t_weights.shape, t_bias.shape)\n",
    "\n",
    "# broadcasting\n",
    "# Y = t_weights * X + t_bias # (w1x1+b, w2x2+b, ..., w5x5+b) (5, ) shape 이 나오게 된다.\n",
    "Y = tf.reduce_sum(t_weights * X, axis=1) + t_bias # w1x1 + ... + w5x5 + b : scalar\n",
    "\n",
    "print(X)\n",
    "print(X.shape)\n",
    "print(Y)\n",
    "print(Y.shape)"
   ]
  },
  {
   "attachments": {},
   "cell_type": "markdown",
   "metadata": {},
   "source": [
    "Dataset for Binary classification"
   ]
  },
  {
   "cell_type": "code",
   "execution_count": 19,
   "metadata": {},
   "outputs": [
    {
     "name": "stdout",
     "output_type": "stream",
     "text": [
      "(8, 5) (5,) (1,)\n",
      "tf.Tensor([1 1 0 1 0 0 0 1], shape=(8,), dtype=int32)\n",
      "X:  (8, 5) <dtype: 'float32'> [[ 0.2969191   1.0382649   0.4775285   1.5637673   1.0129987 ]\n",
      " [-1.615684    0.5831804   1.6943636   1.8182477   1.411853  ]\n",
      " [-0.39038727 -1.343704   -1.1685956   0.4357833  -1.633129  ]\n",
      " [ 1.9294083  -1.0568725  -0.6530246   1.8665124  -1.0326643 ]\n",
      " [-0.558131   -0.91315633 -0.22279495 -0.8867726   0.24213277]\n",
      " [-0.10091587 -2.4831827  -0.7058376   0.7346045  -0.9126602 ]\n",
      " [-1.0747179  -0.29308394 -0.9460796   0.17646275 -0.36291894]\n",
      " [-0.7312422  -0.44842818 -1.0014788   1.0728657   0.8948884 ]]\n",
      "Y:  (8,) <dtype: 'int32'> [1 1 0 1 0 0 0 1]\n"
     ]
    }
   ],
   "source": [
    "import tensorflow as tf\n",
    "\n",
    "N, n_feature = 8, 5 # y = w1x1 + w2x2+ ... + w5x5\n",
    "t_weights = tf.constant((1, 2, 3, 4, 5), dtype=tf.float32)\n",
    "t_bias = tf.constant([10], dtype=tf.float32)\n",
    "\n",
    "X = tf.random.normal(mean=0, stddev=1, shape=(N, n_feature))\n",
    "print(X.shape, t_weights.shape, t_bias.shape)\n",
    "\n",
    "# broadcasting\n",
    "Y = tf.reduce_sum(t_weights * X, axis=1) + t_bias # w1x1 + ... + w5x5 + b : scalar\n",
    "Y = tf.cast(Y > 5, tf.int32)\n",
    "print(Y)\n",
    "\n",
    "print(\"X: \", X.shape, X.dtype, X.numpy())\n",
    "print(\"Y: \", Y.shape, Y.dtype, Y.numpy())\n"
   ]
  },
  {
   "attachments": {},
   "cell_type": "markdown",
   "metadata": {},
   "source": [
    "Dataset for multi-class classification"
   ]
  },
  {
   "cell_type": "code",
   "execution_count": 30,
   "metadata": {},
   "outputs": [
    {
     "name": "stdout",
     "output_type": "stream",
     "text": [
      "X:\n",
      " (24, 2) <dtype: 'float32'> [[  2.8813617    0.71760464]\n",
      " [  4.361272     1.9462566 ]\n",
      " [  3.8131032    1.219294  ]\n",
      " [  2.6254842    2.9175115 ]\n",
      " [  4.9754763    3.0836544 ]\n",
      " [  3.6260118    2.2703032 ]\n",
      " [  3.908101     3.422109  ]\n",
      " [  4.734685     1.6220355 ]\n",
      " [  9.580708   -14.643183  ]\n",
      " [  7.8455496  -14.345497  ]\n",
      " [  8.235907   -13.271498  ]\n",
      " [  8.231758   -13.860234  ]\n",
      " [  8.523604   -14.31899   ]\n",
      " [ 11.668834   -13.599537  ]\n",
      " [  8.0437355  -13.103723  ]\n",
      " [  8.215309   -11.940921  ]\n",
      " [ -8.915059    11.037691  ]\n",
      " [ -8.440469    13.721063  ]\n",
      " [ -8.636846    13.602941  ]\n",
      " [ -9.771833    13.607588  ]\n",
      " [ -8.39468     12.713568  ]\n",
      " [ -8.547305    13.076201  ]\n",
      " [ -7.646575    14.171036  ]\n",
      " [ -7.7193995   14.732872  ]]\n",
      "Y:\n",
      " (24, 1) <dtype: 'int32'> [[0]\n",
      " [0]\n",
      " [0]\n",
      " [0]\n",
      " [0]\n",
      " [0]\n",
      " [0]\n",
      " [0]\n",
      " [1]\n",
      " [1]\n",
      " [1]\n",
      " [1]\n",
      " [1]\n",
      " [1]\n",
      " [1]\n",
      " [1]\n",
      " [2]\n",
      " [2]\n",
      " [2]\n",
      " [2]\n",
      " [2]\n",
      " [2]\n",
      " [2]\n",
      " [2]]\n"
     ]
    },
    {
     "name": "stderr",
     "output_type": "stream",
     "text": [
      "/tmp/ipykernel_9450/3737788056.py:4: MatplotlibDeprecationWarning: The seaborn styles shipped by Matplotlib are deprecated since 3.6, as they no longer correspond to the styles shipped by seaborn. However, they will remain available as 'seaborn-v0_8-<style>'. Alternatively, directly use the seaborn API instead.\n",
      "  plt.style.use('seaborn')\n"
     ]
    },
    {
     "data": {
      "image/png": "[encoded data removed]",
      "text/plain": [
       "<Figure size 500x500 with 1 Axes>"
      ]
     },
     "metadata": {},
     "output_type": "display_data"
    }
   ],
   "source": [
    "import tensorflow as tf\n",
    "import matplotlib.pyplot as plt\n",
    "\n",
    "plt.style.use('seaborn')\n",
    "\n",
    "N, n_feature = 8, 2\n",
    "n_class = 3\n",
    "\n",
    "X = tf.zeros(shape=(0, n_feature))\n",
    "Y = tf.zeros(shape=(0, 1), dtype=tf.int32)\n",
    "\n",
    "fig, ax = plt.subplots(figsize=(5, 5))\n",
    "\n",
    "for class_idx in range(n_class):\n",
    "    center = tf.random.uniform(minval=-15, maxval=15, shape=(2, ))\n",
    "\n",
    "    x1 = center[0] + tf.random.normal(shape=(N, 1))\n",
    "    x2 = center[1] + tf.random.normal(shape=(N, 1))\n",
    "\n",
    "    x = tf.concat((x1, x2), axis=1)\n",
    "    y = class_idx * tf.ones(shape=(N, 1), dtype=tf.int32)\n",
    "\n",
    "    ax.scatter(x[:, 0].numpy(), x[:, 1].numpy(), alpha=0.3)\n",
    "    X = tf.concat((X, x), axis=0)\n",
    "    Y = tf.concat((Y, y), axis=0)\n",
    "\n",
    "print(\"X:\\n\", X.shape, X.dtype, X.numpy())\n",
    "print(\"Y:\\n\", Y.shape, Y.dtype, Y.numpy())"
   ]
  },
  {
   "attachments": {},
   "cell_type": "markdown",
   "metadata": {},
   "source": [
    "Dataset for multi-class classification with One-hot Encoding"
   ]
  },
  {
   "cell_type": "code",
   "execution_count": 34,
   "metadata": {},
   "outputs": [
    {
     "name": "stdout",
     "output_type": "stream",
     "text": [
      "X:\n",
      " (24, 2) <dtype: 'float32'> [[ 12.315282    -0.7505173 ]\n",
      " [ 11.075103     0.57909834]\n",
      " [ 11.351863     0.9728199 ]\n",
      " [ 10.667304     1.1357559 ]\n",
      " [ 10.796894    -0.02386649]\n",
      " [  9.78271     -2.424039  ]\n",
      " [  9.898403     0.9556618 ]\n",
      " [ 11.41771     -0.4853778 ]\n",
      " [ 10.169258   -16.027454  ]\n",
      " [ 10.038944   -12.945086  ]\n",
      " [  9.917535   -14.970992  ]\n",
      " [  8.8322     -13.867316  ]\n",
      " [  9.104756   -14.87109   ]\n",
      " [  8.747502   -15.412754  ]\n",
      " [  9.848417   -14.773258  ]\n",
      " [  8.695368   -13.924508  ]\n",
      " [  7.8872933   -1.7722847 ]\n",
      " [  7.780916    -3.9842086 ]\n",
      " [  8.454413    -2.8330164 ]\n",
      " [  7.873303    -3.706456  ]\n",
      " [  8.199589    -3.5001929 ]\n",
      " [  8.728943    -2.195332  ]\n",
      " [  5.959839    -2.3468382 ]\n",
      " [  7.918708    -1.7394124 ]]\n",
      "Y:\n",
      " (24, 3) <dtype: 'int32'> [[1 0 0]\n",
      " [1 0 0]\n",
      " [1 0 0]\n",
      " [1 0 0]\n",
      " [1 0 0]\n",
      " [1 0 0]\n",
      " [1 0 0]\n",
      " [1 0 0]\n",
      " [0 1 0]\n",
      " [0 1 0]\n",
      " [0 1 0]\n",
      " [0 1 0]\n",
      " [0 1 0]\n",
      " [0 1 0]\n",
      " [0 1 0]\n",
      " [0 1 0]\n",
      " [0 0 1]\n",
      " [0 0 1]\n",
      " [0 0 1]\n",
      " [0 0 1]\n",
      " [0 0 1]\n",
      " [0 0 1]\n",
      " [0 0 1]\n",
      " [0 0 1]]\n"
     ]
    },
    {
     "name": "stderr",
     "output_type": "stream",
     "text": [
      "/tmp/ipykernel_9450/435471530.py:4: MatplotlibDeprecationWarning: The seaborn styles shipped by Matplotlib are deprecated since 3.6, as they no longer correspond to the styles shipped by seaborn. However, they will remain available as 'seaborn-v0_8-<style>'. Alternatively, directly use the seaborn API instead.\n",
      "  plt.style.use('seaborn')\n"
     ]
    },
    {
     "data": {
      "image/png": "[encoded data removed]",
      "text/plain": [
       "<Figure size 500x500 with 1 Axes>"
      ]
     },
     "metadata": {},
     "output_type": "display_data"
    }
   ],
   "source": [
    "import tensorflow as tf\n",
    "import matplotlib.pyplot as plt\n",
    "\n",
    "plt.style.use('seaborn')\n",
    "\n",
    "N, n_feature = 8, 2\n",
    "n_class = 3\n",
    "\n",
    "X = tf.zeros(shape=(0, n_feature))\n",
    "Y = tf.zeros(shape=(0, ), dtype=tf.int32)\n",
    "\n",
    "fig, ax = plt.subplots(figsize=(5, 5))\n",
    "\n",
    "for class_idx in range(n_class):\n",
    "    center = tf.random.uniform(minval=-15, maxval=15, shape=(2, ))\n",
    "\n",
    "    x1 = center[0] + tf.random.normal(shape=(N, 1))\n",
    "    x2 = center[1] + tf.random.normal(shape=(N, 1))\n",
    "\n",
    "    x = tf.concat((x1, x2), axis=1)\n",
    "    y = class_idx * tf.ones(shape=(N, ), dtype=tf.int32) # One-hot encoding: y is vector, not matrix.\n",
    "\n",
    "    ax.scatter(x[:, 0].numpy(), x[:, 1].numpy(), alpha=0.3)\n",
    "    X = tf.concat((X, x), axis=0)\n",
    "    Y = tf.concat((Y, y), axis=0)\n",
    "\n",
    "Y = tf.one_hot(Y, depth=n_class, dtype=tf.int32)\n",
    "print(\"X:\\n\", X.shape, X.dtype, X.numpy())\n",
    "print(\"Y:\\n\", Y.shape, Y.dtype, Y.numpy())"
   ]
  },
  {
   "attachments": {},
   "cell_type": "markdown",
   "metadata": {},
   "source": [
    "Dataset Objects"
   ]
  },
  {
   "cell_type": "code",
   "execution_count": 38,
   "metadata": {},
   "outputs": [
    {
     "name": "stdout",
     "output_type": "stream",
     "text": [
      "(32, 5) (32,)\n",
      "(32, 5) (32,)\n",
      "(32, 5) (32,)\n",
      "(4, 5) (4,)\n"
     ]
    },
    {
     "name": "stderr",
     "output_type": "stream",
     "text": [
      "2023-06-23 20:44:59.974075: I tensorflow/core/common_runtime/executor.cc:1197] [/device:CPU:0] (DEBUG INFO) Executor start aborting (this does not indicate an error and you can ignore this message): INVALID_ARGUMENT: You must feed a value for placeholder tensor 'Placeholder/_1' with dtype float and shape [100]\n",
      "\t [[{{node Placeholder/_1}}]]\n"
     ]
    }
   ],
   "source": [
    "import tensorflow as tf\n",
    "\n",
    "N, n_feature = 100, 5\n",
    "batch_size = 32\n",
    "\n",
    "t_weights = tf.constant((1, 2, 3, 4, 5), dtype=tf.float32)\n",
    "t_bias = tf.constant([10], dtype=tf.float32)\n",
    "\n",
    "X = tf.random.normal(mean=0, stddev=1, shape=(N, n_feature))\n",
    "Y = tf.reduce_sum(t_weights * X, axis=1) + t_bias # (w1x1+...+w5x5) + t_bias\n",
    "\n",
    "## It's complicated ...\n",
    "# print(N // batch_size) # 100 // 32 = 3\n",
    "# for batch_idx in range(N // batch_size):\n",
    "#     x = X[batch_idx * batch_size  : (batch_idx + 1) * batch_size, ...]\n",
    "#     y = Y[batch_idx * batch_size  : (batch_idx + 1) * batch_size, ...]\n",
    "#     print(x.shape, y.shape)\n",
    "\n",
    "# Use API\n",
    "dataset = tf.data.Dataset.from_tensor_slices((X, Y))\n",
    "dataset = dataset.batch(batch_size).shuffle(100)\n",
    "\n",
    "for x, y in dataset:\n",
    "    print(x.shape, y.shape)\n"
   ]
  },
  {
   "attachments": {},
   "cell_type": "markdown",
   "metadata": {},
   "source": [
    "### Loss function\n",
    "Mean Squared Error Calculation"
   ]
  },
  {
   "cell_type": "code",
   "execution_count": 41,
   "metadata": {},
   "outputs": [
    {
     "name": "stdout",
     "output_type": "stream",
     "text": [
      "MSE(tf):  1.5303527\n",
      "MSE(manual):  1.5303527\n"
     ]
    }
   ],
   "source": [
    "import tensorflow as tf\n",
    "\n",
    "from tensorflow.keras.losses import MeanSquaredError\n",
    "\n",
    "loss_object = MeanSquaredError()\n",
    "\n",
    "batch_size = 32\n",
    "predictions = tf.random.normal(shape=(batch_size, 1)) # neuron # at last layer: 1 -> output is scalar\n",
    "labels = tf.random.normal(shape=(batch_size, 1))\n",
    "\n",
    "mse = loss_object(labels, predictions)\n",
    "mse_manual = tf.reduce_mean(tf.math.pow(labels - predictions, 2))\n",
    "\n",
    "print(\"MSE(tf): \", mse.numpy())\n",
    "print(\"MSE(manual): \", mse_manual.numpy())"
   ]
  },
  {
   "attachments": {},
   "cell_type": "markdown",
   "metadata": {},
   "source": [
    "MSE with Model/Dataset"
   ]
  },
  {
   "cell_type": "code",
   "execution_count": 43,
   "metadata": {},
   "outputs": [
    {
     "name": "stdout",
     "output_type": "stream",
     "text": [
      "2.756238\n",
      "2.6948926\n",
      "2.7726536\n",
      "2.3330998\n"
     ]
    },
    {
     "name": "stderr",
     "output_type": "stream",
     "text": [
      "2023-06-23 21:02:58.106155: I tensorflow/core/common_runtime/executor.cc:1197] [/device:CPU:0] (DEBUG INFO) Executor start aborting (this does not indicate an error and you can ignore this message): INVALID_ARGUMENT: You must feed a value for placeholder tensor 'Placeholder/_1' with dtype float and shape [100,1]\n",
      "\t [[{{node Placeholder/_1}}]]\n"
     ]
    }
   ],
   "source": [
    "import tensorflow as tf\n",
    "\n",
    "from tensorflow.keras.layers import Dense\n",
    "from tensorflow.keras.losses import MeanSquaredError\n",
    "\n",
    "N, n_feature = 100, 5\n",
    "batch_size = 32\n",
    "\n",
    "X = tf.random.normal(shape=(N, n_feature))\n",
    "Y = tf.random.normal(shape=(N, 1))\n",
    "\n",
    "dataset = tf.data.Dataset.from_tensor_slices((X, Y))\n",
    "dataset = dataset.batch(batch_size)\n",
    "\n",
    "model = Dense(units=1, activation='linear')\n",
    "loss_object = MeanSquaredError()\n",
    "\n",
    "for x, y in dataset:\n",
    "    predictions = model(x) # shape = (batch_size, 1)\n",
    "    loss = loss_object(y, predictions)\n",
    "    print(loss.numpy())"
   ]
  },
  {
   "attachments": {},
   "cell_type": "markdown",
   "metadata": {},
   "source": [
    "Binary Cross Entropy Calculation"
   ]
  },
  {
   "cell_type": "code",
   "execution_count": 47,
   "metadata": {},
   "outputs": [
    {
     "name": "stdout",
     "output_type": "stream",
     "text": [
      "tf.Tensor(\n",
      "[[0.3417747 ]\n",
      " [0.6858921 ]\n",
      " [0.99019265]\n",
      " [0.29871297]], shape=(4, 1), dtype=float32)\n",
      "tf.Tensor(\n",
      "[[1]\n",
      " [0]\n",
      " [1]\n",
      " [0]], shape=(4, 1), dtype=int32)\n",
      "BCE(tf):  0.64907885\n",
      "BCE(manual):  0.64907897\n"
     ]
    }
   ],
   "source": [
    "import tensorflow as tf\n",
    "\n",
    "from tensorflow.keras.losses import BinaryCrossentropy\n",
    "\n",
    "batch_size = 4\n",
    "n_class = 2\n",
    "\n",
    "predictions = tf.random.uniform(shape=(batch_size, 1), minval=0, maxval=1, dtype=tf.float32)\n",
    "labels = tf.random.uniform(shape=(batch_size, 1), minval=0, maxval=n_class, dtype=tf.int32)\n",
    "print(predictions)\n",
    "print(labels)\n",
    "\n",
    "loss_object = BinaryCrossentropy()\n",
    "loss = loss_object(labels, predictions)\n",
    "\n",
    "labels = tf.cast(labels, tf.float32)\n",
    "bce_man = -(labels * tf.math.log(predictions) + (1 - labels) * tf.math.log(1 - predictions))\n",
    "bce_man = tf.reduce_mean(bce_man)\n",
    "\n",
    "print(\"BCE(tf): \", loss.numpy())\n",
    "print(\"BCE(manual): \", bce_man.numpy())"
   ]
  },
  {
   "attachments": {},
   "cell_type": "markdown",
   "metadata": {},
   "source": [
    "BCE with Model/Dataset"
   ]
  },
  {
   "cell_type": "code",
   "execution_count": 50,
   "metadata": {},
   "outputs": [
    {
     "name": "stdout",
     "output_type": "stream",
     "text": [
      "0.68448126\n",
      "0.6100637\n",
      "0.62559205\n",
      "0.58185345\n"
     ]
    },
    {
     "name": "stderr",
     "output_type": "stream",
     "text": [
      "2023-06-23 21:18:14.327216: I tensorflow/core/common_runtime/executor.cc:1197] [/device:CPU:0] (DEBUG INFO) Executor start aborting (this does not indicate an error and you can ignore this message): INVALID_ARGUMENT: You must feed a value for placeholder tensor 'Placeholder/_1' with dtype int32 and shape [100]\n",
      "\t [[{{node Placeholder/_1}}]]\n"
     ]
    }
   ],
   "source": [
    "import tensorflow as tf\n",
    "\n",
    "from tensorflow.keras.losses import BinaryCrossentropy\n",
    "\n",
    "N, n_feature = 100, 5 # y = w1x1 + w2x2+ ... + w5x5\n",
    "batch_size = 32\n",
    "\n",
    "t_weights = tf.constant((1, 2, 3, 4, 5), dtype=tf.float32)\n",
    "t_bias = tf.constant([10], dtype=tf.float32)\n",
    "\n",
    "X = tf.random.normal(mean=0, stddev=1, shape=(N, n_feature))\n",
    "\n",
    "# broadcasting\n",
    "Y = tf.reduce_sum(t_weights * X, axis=1) + t_bias # w1x1 + ... + w5x5 + b : scalar\n",
    "Y = tf.cast(Y > 5, tf.int32)\n",
    "\n",
    "dataset = tf.data.Dataset.from_tensor_slices((X, Y))\n",
    "dataset = dataset.batch(batch_size)\n",
    "\n",
    "model = Dense(units=1, activation='sigmoid')\n",
    "loss_object = BinaryCrossentropy()\n",
    "\n",
    "for x, y in dataset:\n",
    "    prediction = model(x)\n",
    "    loss = loss_object(y, prediction)\n",
    "    print(loss.numpy())"
   ]
  }
 ],
 "metadata": {
  "kernelspec": {
   "display_name": "tensorflow",
   "language": "python",
   "name": "python3"
  },
  "language_info": {
   "codemirror_mode": {
    "name": "ipython",
    "version": 3
   },
   "file_extension": ".py",
   "mimetype": "text/x-python",
   "name": "python",
   "nbconvert_exporter": "python",
   "pygments_lexer": "ipython3",
   "version": "3.10.11"
  },
  "orig_nbformat": 4
 },
 "nbformat": 4,
 "nbformat_minor": 2
}
