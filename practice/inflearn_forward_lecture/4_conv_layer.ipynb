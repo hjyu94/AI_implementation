{
 "cells": [
  {
   "attachments": {},
   "cell_type": "markdown",
   "metadata": {},
   "source": [
    "### Conv Layer\n",
    "Shapes of Conv Layers"
   ]
  },
  {
   "cell_type": "code",
   "execution_count": 8,
   "metadata": {},
   "outputs": [
    {
     "name": "stdout",
     "output_type": "stream",
     "text": [
      "(32, 28, 28, 5)\n",
      "(3, 3, 5, 10)\n",
      "(10,)\n",
      "(32, 26, 26, 10)\n"
     ]
    }
   ],
   "source": [
    "import tensorflow as tf\n",
    "\n",
    "from tensorflow.keras.layers import Conv2D\n",
    "\n",
    "N, n_H, n_W, n_C = 32, 28, 28, 5\n",
    "n_filter = 10\n",
    "k_size = 3\n",
    "\n",
    "images = tf.random.uniform(minval=0, maxval=1,\n",
    "                           shape=(N, n_H, n_W, n_C))\n",
    "conv = Conv2D(filters=n_filter, kernel_size=k_size)\n",
    "y = conv(images)\n",
    "\n",
    "W, B = conv.get_weights()\n",
    "\n",
    "print(images.shape)\n",
    "print(W.shape)\n",
    "print(B.shape)\n",
    "print(y.shape)\n"
   ]
  },
  {
   "attachments": {},
   "cell_type": "markdown",
   "metadata": {},
   "source": [
    "Correlation Calculation"
   ]
  },
  {
   "cell_type": "code",
   "execution_count": 31,
   "metadata": {},
   "outputs": [
    {
     "name": "stdout",
     "output_type": "stream",
     "text": [
      "y shape:  (1, 3, 3, 1)\n",
      "squeezed y shape:  (3, 3) \n",
      "\n",
      "Y(tf):  [[-0.37637758 -0.0924276  -0.09875585]\n",
      " [ 0.09159578 -0.00603162 -0.4754757 ]\n",
      " [-0.4743319   0.24555962 -0.1844385 ]] \n",
      "\n",
      "(5, 5)\n",
      "(3, 3)\n",
      "(1,) \n",
      "\n",
      "Y(man):  [[-0.37637761 -0.09242761 -0.09875586]\n",
      " [ 0.09159578 -0.00603163 -0.4754757 ]\n",
      " [-0.47433183  0.24555962 -0.1844385 ]]\n"
     ]
    },
    {
     "name": "stderr",
     "output_type": "stream",
     "text": [
      "C:\\Users\\hjeong\\AppData\\Local\\Temp\\ipykernel_16400\\1543382660.py:34: DeprecationWarning: Conversion of an array with ndim > 0 to a scalar is deprecated, and will error in future. Ensure you extract a single element from your array before performing this operation. (Deprecated NumPy 1.25.)\n",
      "  y_man[i, j] = z\n"
     ]
    }
   ],
   "source": [
    "import numpy as np\n",
    "import tensorflow as tf\n",
    "\n",
    "from tensorflow.keras.layers import Conv2D\n",
    "\n",
    "N, n_H, n_W, n_C = 1, 5, 5, 1\n",
    "n_filter = 1\n",
    "k_size = 3\n",
    "\n",
    "images = tf.random.uniform(minval=0, maxval=1,\n",
    "                           shape=(N, n_H, n_W, n_C))\n",
    "conv = Conv2D(filters=n_filter, kernel_size=k_size)\n",
    "y = conv(images)\n",
    "print(\"y shape: \", y.shape)\n",
    "print(\"squeezed y shape: \", y.numpy().squeeze().shape, \"\\n\")\n",
    "\n",
    "print(\"Y(tf): \", y.numpy().squeeze(), \"\\n\")\n",
    "\n",
    "W, B = conv.get_weights()\n",
    "\n",
    "images = images.numpy().squeeze()\n",
    "W = W.squeeze()\n",
    "\n",
    "print(images.shape)\n",
    "print(W.shape)\n",
    "print(B.shape, \"\\n\")\n",
    "\n",
    "y_man = np.zeros(shape=(n_H - k_size + 1, n_W - k_size + 1)) # 우선 빈 공간 만들기\n",
    "\n",
    "for h in range(n_H - k_size + 1):\n",
    "    for w in range(n_W - k_size + 1):\n",
    "        window = images[h:h+k_size, w:w+k_size]\n",
    "        z = np.sum(window * W) + B\n",
    "        y_man[h, w] = z\n",
    "\n",
    "print(\"Y(man): \", y_man)"
   ]
  },
  {
   "attachments": {},
   "cell_type": "markdown",
   "metadata": {},
   "source": [
    "Correlation witn n-channel"
   ]
  },
  {
   "cell_type": "code",
   "execution_count": 30,
   "metadata": {},
   "outputs": [
    {
     "name": "stdout",
     "output_type": "stream",
     "text": [
      "y shape:  (1, 3, 3, 1)\n",
      "squeezed y shape:  (3, 3) \n",
      "\n",
      "Y(tf):  [[-0.54568946 -1.0295973   0.05161537]\n",
      " [ 0.05732201 -0.30262452 -0.6716409 ]\n",
      " [-0.70836383  0.08644051  0.10310345]] \n",
      "\n",
      "(5, 5, 3)\n",
      "(3, 3, 3)\n",
      "(1,) \n",
      "\n",
      "Y(man):  [[-0.54568946 -1.02959728  0.05161544]\n",
      " [ 0.05732194 -0.30262452 -0.67164081]\n",
      " [-0.70836383  0.08644054  0.10310342]]\n"
     ]
    },
    {
     "name": "stderr",
     "output_type": "stream",
     "text": [
      "C:\\Users\\hjeong\\AppData\\Local\\Temp\\ipykernel_16400\\2816039438.py:34: DeprecationWarning: Conversion of an array with ndim > 0 to a scalar is deprecated, and will error in future. Ensure you extract a single element from your array before performing this operation. (Deprecated NumPy 1.25.)\n",
      "  y_man[i, j] = z\n"
     ]
    }
   ],
   "source": [
    "import numpy as np\n",
    "import tensorflow as tf\n",
    "\n",
    "from tensorflow.keras.layers import Conv2D\n",
    "\n",
    "N, n_H, n_W, n_C = 1, 5, 5, 3\n",
    "n_filter = 1\n",
    "k_size = 3\n",
    "\n",
    "images = tf.random.uniform(minval=0, maxval=1,\n",
    "                           shape=(N, n_H, n_W, n_C))\n",
    "conv = Conv2D(filters=n_filter, kernel_size=k_size)\n",
    "y = conv(images)\n",
    "print(\"y shape: \", y.shape)\n",
    "print(\"squeezed y shape: \", y.numpy().squeeze().shape, \"\\n\")\n",
    "\n",
    "print(\"Y(tf): \", y.numpy().squeeze(), \"\\n\")\n",
    "\n",
    "W, B = conv.get_weights()\n",
    "\n",
    "images = images.numpy().squeeze()\n",
    "W = W.squeeze()\n",
    "\n",
    "print(images.shape)\n",
    "print(W.shape)\n",
    "print(B.shape, \"\\n\")\n",
    "\n",
    "y_man = np.zeros(shape=(n_H - k_size + 1, n_W - k_size + 1)) # 우선 빈 공간 만들기\n",
    "\n",
    "for h in range(n_H - k_size + 1):\n",
    "    for w in range(n_W - k_size + 1):\n",
    "        window = images[h:h+k_size, w:w+k_size, :]\n",
    "        z = np.sum(window * W) + B\n",
    "        y_man[h, w] = z\n",
    "\n",
    "print(\"Y(man): \", y_man)"
   ]
  },
  {
   "attachments": {},
   "cell_type": "markdown",
   "metadata": {},
   "source": [
    "### Conv Layer with Filters\n",
    "Shapes with Filters"
   ]
  },
  {
   "cell_type": "code",
   "execution_count": 36,
   "metadata": {},
   "outputs": [
    {
     "name": "stdout",
     "output_type": "stream",
     "text": [
      "input image:  (32, 28, 28, 3)\n",
      "W:  (3, 3, 3, 5) / B:  (5,)\n",
      "Output image:  (32, 26, 26, 5) \n",
      "\n"
     ]
    }
   ],
   "source": [
    "import tensorflow as tf\n",
    "\n",
    "from tensorflow.keras.layers import Conv2D\n",
    "\n",
    "N, n_H, n_W, n_C = 32, 28, 28, 3\n",
    "n_filter = 5\n",
    "k_size = 3\n",
    "\n",
    "images = tf.random.uniform(minval=0, maxval=1,\n",
    "                           shape=(N, n_H, n_W, n_C))\n",
    "\n",
    "conv = Conv2D(filters=n_filter, kernel_size=k_size)\n",
    "\n",
    "Y = conv(images)\n",
    "W, B = conv.get_weights()\n",
    "\n",
    "print(\"input image: \", images.shape)\n",
    "print(\"W: \", W.shape, \"/ B: \", B.shape)\n",
    "print(\"Output image: \", Y.shape, \"\\n\")\n"
   ]
  },
  {
   "attachments": {},
   "cell_type": "markdown",
   "metadata": {},
   "source": [
    "Computations with Filters"
   ]
  },
  {
   "cell_type": "code",
   "execution_count": 46,
   "metadata": {},
   "outputs": [
    {
     "name": "stdout",
     "output_type": "stream",
     "text": [
      "(2, 3, 4)\n",
      "[[2 0 8]\n",
      " [2 6 8]]\n",
      "[[7 5 3]\n",
      " [4 3 9]]\n",
      "[[4 9 6]\n",
      " [7 0 6]]\n",
      "[[9 6 4]\n",
      " [4 8 1]]\n",
      "\n",
      "(4, 2, 3)\n",
      "[[2 0 8]\n",
      " [2 6 8]]\n",
      "[[7 5 3]\n",
      " [4 3 9]]\n",
      "[[4 9 6]\n",
      " [7 0 6]]\n",
      "[[9 6 4]\n",
      " [4 8 1]]\n"
     ]
    }
   ],
   "source": [
    "import numpy as np\n",
    "\n",
    "images = np.random.randint(low=0, high=10, size=(2, 3, 4))\n",
    "print(images.shape) # (H, W, C)\n",
    "\n",
    "# 채널별 출력\n",
    "for c in range(4):\n",
    "    print(images[:, :, c])\n",
    "print()\n",
    "\n",
    "## \n",
    "\n",
    "images = np.transpose(images, (2, 0, 1)) \n",
    "print(images.shape) # (C, H, W)\n",
    "\n",
    "# 채널별 출력\n",
    "for c in range(4):\n",
    "    print(images[c, :, :])    "
   ]
  },
  {
   "cell_type": "code",
   "execution_count": 69,
   "metadata": {},
   "outputs": [
    {
     "name": "stdout",
     "output_type": "stream",
     "text": [
      "Y(tf):  (4, 2, 2) \n",
      " [[[-0.3570928   0.34775928]\n",
      "  [ 0.1495131   0.04881763]]\n",
      "\n",
      " [[-0.6019267  -0.095783  ]\n",
      "  [-0.34438187 -0.13894887]]\n",
      "\n",
      " [[ 0.76280797  0.6621494 ]\n",
      "  [ 0.7922844   1.0797873 ]]\n",
      "\n",
      " [[ 0.02123606  0.03763804]\n",
      "  [-0.19084677 -0.49260855]]]\n",
      "Y(man):  (4, 2, 2) \n",
      " [[[-0.35709277  0.34775931]\n",
      "  [ 0.14951313  0.04881769]]\n",
      "\n",
      " [[-0.60192674 -0.09578294]\n",
      "  [-0.34438181 -0.13894889]]\n",
      "\n",
      " [[ 0.76280797  0.66214943]\n",
      "  [ 0.79228449  1.07978737]]\n",
      "\n",
      " [[ 0.02123618  0.03763799]\n",
      "  [-0.1908468  -0.49260858]]]\n"
     ]
    }
   ],
   "source": [
    "import tensorflow as tf\n",
    "import numpy as np\n",
    "\n",
    "from tensorflow.keras.layers import Conv2D\n",
    "\n",
    "N, n_H, n_W, n_C = 1, 5, 5, 3\n",
    "n_filter = 4\n",
    "k_size = 4\n",
    "\n",
    "images = tf.random.uniform(minval=0, maxval=1,\n",
    "                           shape=(N, n_H, n_W, n_C))\n",
    "\n",
    "### forward propagation (tf)\n",
    "conv = Conv2D(filters=n_filter, kernel_size=k_size)\n",
    "Y = conv(images)\n",
    "# print(Y.shape)\n",
    "Y = np.transpose(Y.numpy().squeeze(), (2, 0, 1))\n",
    "print(\"Y(tf): \", Y.shape, \"\\n\", Y)\n",
    "\n",
    "### forward propagation (manual)\n",
    "W, B = conv.get_weights()\n",
    "images = images.numpy().squeeze()\n",
    "\n",
    "# print(W.shape, B.shape)\n",
    "# print(images.shape)\n",
    "\n",
    "Y_man = np.zeros(shape = (n_H - k_size + 1, n_W - k_size + 1, n_filter))\n",
    "\n",
    "for c in range(n_filter):\n",
    "    c_W = W[:, :, :, c]\n",
    "    c_B = B[c]\n",
    "    # print(c_W.shape)\n",
    "    \n",
    "    for h in range(n_H - k_size + 1):\n",
    "        for w in range(n_W - k_size + 1):\n",
    "            window = images[h:h+k_size, w:w+k_size, :]\n",
    "            # print(window.shape)\n",
    "            Y_man[h, w, c] = np.sum(window * c_W) + c_B\n",
    "\n",
    "Y_man = np.transpose(Y_man, (2, 0, 1))\n",
    "print(\"Y(man): \", Y_man.shape, \"\\n\", Y_man)"
   ]
  },
  {
   "attachments": {},
   "cell_type": "markdown",
   "metadata": {},
   "source": [
    "Conv Layers with Activation Functions"
   ]
  },
  {
   "cell_type": "code",
   "execution_count": 72,
   "metadata": {},
   "outputs": [
    {
     "name": "stdout",
     "output_type": "stream",
     "text": [
      "Y(tf):  (4, 2, 2) \n",
      " [[[0.4155384  0.4670282 ]\n",
      "  [0.48730835 0.39814928]]\n",
      "\n",
      " [[0.670283   0.7058181 ]\n",
      "  [0.6645797  0.71991986]]\n",
      "\n",
      " [[0.40087608 0.41955355]\n",
      "  [0.44170198 0.3908996 ]]\n",
      "\n",
      " [[0.5609696  0.5862361 ]\n",
      "  [0.59426475 0.7043673 ]]]\n",
      "Y(man):  (4, 2, 2) \n",
      " [[[0.41553838 0.46702816]\n",
      "  [0.48730839 0.39814926]]\n",
      "\n",
      " [[0.67028299 0.70581818]\n",
      "  [0.66457967 0.71991984]]\n",
      "\n",
      " [[0.40087605 0.41955354]\n",
      "  [0.44170201 0.39089963]]\n",
      "\n",
      " [[0.56096961 0.58623618]\n",
      "  [0.59426473 0.70436723]]]\n"
     ]
    }
   ],
   "source": [
    "import tensorflow as tf\n",
    "import numpy as np\n",
    "\n",
    "from tensorflow.keras.layers import Conv2D\n",
    "\n",
    "N, n_H, n_W, n_C = 1, 5, 5, 3\n",
    "n_filter = 4\n",
    "k_size = 4\n",
    "\n",
    "images = tf.random.uniform(minval=0, maxval=1,\n",
    "                           shape=(N, n_H, n_W, n_C))\n",
    "\n",
    "### forward propagation (tf)\n",
    "conv = Conv2D(filters=n_filter, kernel_size=k_size, activation='sigmoid')\n",
    "Y = conv(images)\n",
    "# print(Y.shape)\n",
    "Y = np.transpose(Y.numpy().squeeze(), (2, 0, 1))\n",
    "print(\"Y(tf): \", Y.shape, \"\\n\", Y)\n",
    "\n",
    "### forward propagation (manual)\n",
    "W, B = conv.get_weights()\n",
    "images = images.numpy().squeeze()\n",
    "\n",
    "# print(W.shape, B.shape)\n",
    "# print(images.shape)\n",
    "\n",
    "Y_man = np.zeros(shape = (n_H - k_size + 1, n_W - k_size + 1, n_filter))\n",
    "\n",
    "for c in range(n_filter):\n",
    "    c_W = W[:, :, :, c]\n",
    "    c_B = B[c]\n",
    "    # print(c_W.shape)\n",
    "    \n",
    "    for h in range(n_H - k_size + 1):\n",
    "        for w in range(n_W - k_size + 1):\n",
    "            window = images[h:h+k_size, w:w+k_size, :]\n",
    "            # print(window.shape)\n",
    "            conv = np.sum(window * c_W) + c_B\n",
    "            Y_man[h, w, c] = 1 / (1 + np.exp(-conv))\n",
    "\n",
    "Y_man = np.transpose(Y_man, (2, 0, 1))\n",
    "print(\"Y(man): \", Y_man.shape, \"\\n\", Y_man)"
   ]
  },
  {
   "attachments": {},
   "cell_type": "markdown",
   "metadata": {},
   "source": [
    "### Models with Conv Layers\n",
    "Models with Sequential Method"
   ]
  },
  {
   "cell_type": "code",
   "execution_count": 83,
   "metadata": {},
   "outputs": [
    {
     "name": "stdout",
     "output_type": "stream",
     "text": [
      "(3, 3, 3, 10) (10,)\n",
      "(3, 3, 10, 20) (20,)\n",
      "(3, 3, 20, 30) (30,)\n",
      "=====\n",
      "6\n",
      "(3, 3, 3, 10)\n",
      "(10,)\n",
      "(3, 3, 10, 20)\n",
      "(20,)\n",
      "(3, 3, 20, 30)\n",
      "(30,)\n"
     ]
    }
   ],
   "source": [
    "import tensorflow as tf\n",
    "\n",
    "from tensorflow.keras.models import Sequential\n",
    "from tensorflow.keras.layers import Conv2D\n",
    "\n",
    "n_neurons = [10, 20, 30]\n",
    "\n",
    "model = Sequential()\n",
    "model.add(Conv2D(filters=n_neurons[0], kernel_size = 3, activation='relu'))\n",
    "model.add(Conv2D(filters=n_neurons[1], kernel_size = 3, activation='relu'))\n",
    "model.add(Conv2D(filters=n_neurons[2], kernel_size = 3, activation='relu'))\n",
    "\n",
    "X = tf.random.normal(shape=(32, 28, 28, 3))\n",
    "predictions = model(X)\n",
    "\n",
    "# print(\"X: \", X.shape)\n",
    "# print(\"predictions: \", predictions.shape)\n",
    "\n",
    "for layer in model.layers:\n",
    "    # print(layer)\n",
    "    W, B = layer.get_weights()\n",
    "    print(W.shape, B.shape)\n",
    "    \n",
    "print(\"=====\")\n",
    "\n",
    "trainable_variables = model.trainable_variables\n",
    "print(len(trainable_variables))\n",
    "for train_var in trainable_variables:\n",
    "    print(train_var.shape)"
   ]
  },
  {
   "cell_type": "code",
   "execution_count": 87,
   "metadata": {},
   "outputs": [
    {
     "name": "stdout",
     "output_type": "stream",
     "text": [
      "X:  (32, 28, 28, 3)\n",
      "\n",
      "===== Conv Layers =====\n",
      "W:  (3, 3, 3, 10) , B:  (10,)\n",
      "X:  (32, 28, 28, 3) \n",
      "\n",
      "W:  (3, 3, 10, 20) , B:  (20,)\n",
      "X:  (32, 28, 28, 3) \n",
      "\n",
      "W:  (3, 3, 20, 30) , B:  (30,)\n",
      "X:  (32, 28, 28, 3) \n",
      "\n"
     ]
    }
   ],
   "source": [
    "import tensorflow as tf\n",
    "\n",
    "from tensorflow.keras.models import Model\n",
    "from tensorflow.keras.layers import Conv2D\n",
    "\n",
    "n_neurons = [10, 20, 30]\n",
    "\n",
    "class TestModel(Model):\n",
    "    def __init__(self):\n",
    "        super(TestModel, self).__init__()\n",
    "        global n_neurons\n",
    "        \n",
    "        self.conv_layers = []\n",
    "        \n",
    "        for n_neuron in n_neurons:\n",
    "            self.conv_layers.append(Conv2D(filters=n_neuron, kernel_size = 3, activation='relu'))\n",
    "    \n",
    "    def call(self, x):\n",
    "        print(\"X: \", x.shape)\n",
    "        \n",
    "        print(\"\\n===== Conv Layers =====\")\n",
    "        for conv_layer in self.conv_layers:\n",
    "            x = conv_layer(x)\n",
    "            W, B = conv_layer.get_weights()\n",
    "            print(\"W: \", W.shape, \", B: \", B.shape)\n",
    "            print(\"X: \", X.shape, \"\\n\")\n",
    "        return x\n",
    "\n",
    "model = TestModel()\n",
    "\n",
    "X = tf.random.normal(shape=(32, 28, 28, 3))\n",
    "predictions = model(X)"
   ]
  }
 ],
 "metadata": {
  "kernelspec": {
   "display_name": "tensorflow",
   "language": "python",
   "name": "python3"
  },
  "language_info": {
   "codemirror_mode": {
    "name": "ipython",
    "version": 3
   },
   "file_extension": ".py",
   "mimetype": "text/x-python",
   "name": "python",
   "nbconvert_exporter": "python",
   "pygments_lexer": "ipython3",
   "version": "3.10.12"
  },
  "orig_nbformat": 4
 },
 "nbformat": 4,
 "nbformat_minor": 2
}
