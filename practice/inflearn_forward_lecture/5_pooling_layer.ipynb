{
 "cells": [
  {
   "attachments": {},
   "cell_type": "markdown",
   "metadata": {},
   "source": [
    "### 1D Max/Avg Pooling\n",
    "Max Pooling"
   ]
  },
  {
   "cell_type": "code",
   "execution_count": 16,
   "metadata": {},
   "outputs": [
    {
     "name": "stdout",
     "output_type": "stream",
     "text": [
      "x:  (1, 10, 1) [ 2.8920233   0.09533081 -1.1821508  -0.017394    0.02153041 -0.16575794\n",
      "  0.17567821  0.41768765 -1.235992   -0.7133007 ]\n",
      "====\n",
      "pooled_max(tf):  (1, 9, 1) [ 2.8920233   0.09533081 -0.017394    0.02153041  0.02153041  0.17567821\n",
      "  0.41768765  0.41768765 -0.7133007 ]\n",
      "====\n",
      "pooled_max(man):  (9,) [ 2.89202332  0.09533081 -0.017394    0.02153041  0.02153041  0.17567821\n",
      "  0.41768765  0.41768765 -0.7133007 ]\n"
     ]
    }
   ],
   "source": [
    "import numpy as np\n",
    "import tensorflow as tf\n",
    "\n",
    "from tensorflow.keras.layers import MaxPooling1D\n",
    "\n",
    "L, f, s = 10, 2, 1\n",
    "\n",
    "x = tf.random.normal(shape=(1, L, 1))\n",
    "pool_avg = MaxPooling1D(pool_size=f, strides=1)\n",
    "pooled_avg = pool_avg(x)\n",
    "\n",
    "print(\"x: \", x.shape, x.numpy().flatten())\n",
    "\n",
    "print(\"====\")\n",
    "\n",
    "print(\"pooled_max(tf): \", pooled_avg.shape, pooled_avg.numpy().flatten())\n",
    "\n",
    "print(\"====\")\n",
    "\n",
    "x = x.numpy().flatten()\n",
    "pooled_avg_man = np.zeros(shape=(L-f+1, )) # 빈 공간 마련\n",
    "for i in range(L-f+1):\n",
    "    window = x[i:i+f]\n",
    "    pooled_avg_man[i] = np.max(window)\n",
    "print(\"pooled_max(man): \", pooled_avg_man.shape, pooled_avg_man)\n"
   ]
  },
  {
   "attachments": {},
   "cell_type": "markdown",
   "metadata": {},
   "source": [
    "Average Pooling"
   ]
  },
  {
   "cell_type": "code",
   "execution_count": 17,
   "metadata": {},
   "outputs": [
    {
     "name": "stdout",
     "output_type": "stream",
     "text": [
      "x:  (1, 10, 1) [-0.25895742 -0.62685776  0.48678806 -0.9509754   1.7613645  -2.6327667\n",
      " -1.4622571  -0.19159655  0.14958392  1.2808422 ]\n",
      "====\n",
      "pooled_avg(tf):  (1, 9, 1) [-0.44290757 -0.07003485 -0.23209368  0.40519452 -0.43570113 -2.047512\n",
      " -0.8269268  -0.02100632  0.71521306]\n",
      "====\n",
      "pooled_avg(man):  (9,) [-0.44290757 -0.07003485 -0.23209368  0.40519452 -0.43570113 -2.04751205\n",
      " -0.82692683 -0.02100632  0.71521306]\n"
     ]
    }
   ],
   "source": [
    "import numpy as np\n",
    "import tensorflow as tf\n",
    "\n",
    "from tensorflow.keras.layers import AveragePooling1D\n",
    "\n",
    "L, f, s = 10, 2, 1\n",
    "\n",
    "x = tf.random.normal(shape=(1, L, 1))\n",
    "pool_avg = AveragePooling1D(pool_size=f, strides=1)\n",
    "pooled_avg = pool_avg(x)\n",
    "\n",
    "print(\"x: \", x.shape, x.numpy().flatten())\n",
    "\n",
    "print(\"====\")\n",
    "\n",
    "print(\"pooled_avg(tf): \", pooled_avg.shape, pooled_avg.numpy().flatten())\n",
    "\n",
    "print(\"====\")\n",
    "\n",
    "x = x.numpy().flatten()\n",
    "pooled_avg_man = np.zeros(shape=(L-f+1, )) # 빈 공간 마련\n",
    "for i in range(L-f+1):\n",
    "    window = x[i:i+f]\n",
    "    pooled_avg_man[i] = np.mean(window)\n",
    "print(\"pooled_avg(man): \", pooled_avg_man.shape, pooled_avg_man)\n"
   ]
  },
  {
   "attachments": {},
   "cell_type": "markdown",
   "metadata": {},
   "source": [
    "### 2D Max/Avg Pooling\n",
    "Max Pooling"
   ]
  },
  {
   "cell_type": "code",
   "execution_count": null,
   "metadata": {},
   "outputs": [],
   "source": [
    "import numpy as np\n",
    "import tensorflow as tf\n",
    "\n",
    "from tensorflow.keras.layers import MaxPooling2D\n",
    "\n",
    "N, n_H, n_W, n_C = 1, 5, 5, 1\n",
    "f, s = 2, 1\n",
    "\n",
    "x = tf.random.normal(shape=(N, n_H, n_W, n_C))\n",
    "pool_avg = MaxPooling2D(pool_size=f, strides=s)\n",
    "pooled_avg = pool_avg(x)\n",
    "\n",
    "print(\"x: \", x.shape, x.numpy().flatten())\n",
    "print(\"pooled_max(tf): \", pooled_avg.shape, pooled_avg.numpy().flatten())\n",
    "\n",
    "print(\"====\")\n",
    "\n",
    "x = x.numpy().flatten()\n",
    "pooled_avg_man = np.zeros(shape=(L-f+1, )) # 빈 공간 마련\n",
    "for i in range(L-f+1):\n",
    "    window = x[i:i+f]\n",
    "    pooled_avg_man[i] = np.max(window)\n",
    "print(\"pooled_max(man): \", pooled_avg_man.shape, pooled_avg_man)\n"
   ]
  },
  {
   "cell_type": "code",
   "execution_count": null,
   "metadata": {},
   "outputs": [],
   "source": []
  }
 ],
 "metadata": {
  "kernelspec": {
   "display_name": "tensorflow",
   "language": "python",
   "name": "python3"
  },
  "language_info": {
   "codemirror_mode": {
    "name": "ipython",
    "version": 3
   },
   "file_extension": ".py",
   "mimetype": "text/x-python",
   "name": "python",
   "nbconvert_exporter": "python",
   "pygments_lexer": "ipython3",
   "version": "3.10.12"
  },
  "orig_nbformat": 4
 },
 "nbformat": 4,
 "nbformat_minor": 2
}
