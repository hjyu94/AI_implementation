{
 "cells": [
  {
   "attachments": {},
   "cell_type": "markdown",
   "metadata": {},
   "source": [
    "### 1D Max/Avg Pooling\n",
    "Max Pooling"
   ]
  },
  {
   "cell_type": "code",
   "execution_count": 16,
   "metadata": {},
   "outputs": [
    {
     "name": "stdout",
     "output_type": "stream",
     "text": [
      "x:  (1, 10, 1) [ 2.8920233   0.09533081 -1.1821508  -0.017394    0.02153041 -0.16575794\n",
      "  0.17567821  0.41768765 -1.235992   -0.7133007 ]\n",
      "====\n",
      "pooled_max(tf):  (1, 9, 1) [ 2.8920233   0.09533081 -0.017394    0.02153041  0.02153041  0.17567821\n",
      "  0.41768765  0.41768765 -0.7133007 ]\n",
      "====\n",
      "pooled_max(man):  (9,) [ 2.89202332  0.09533081 -0.017394    0.02153041  0.02153041  0.17567821\n",
      "  0.41768765  0.41768765 -0.7133007 ]\n"
     ]
    }
   ],
   "source": [
    "import numpy as np\n",
    "import tensorflow as tf\n",
    "\n",
    "from tensorflow.keras.layers import MaxPooling1D\n",
    "\n",
    "L, f, s = 10, 2, 1\n",
    "\n",
    "x = tf.random.normal(shape=(1, L, 1))\n",
    "pool_avg = MaxPooling1D(pool_size=f, strides=1)\n",
    "pooled_avg = pool_avg(x)\n",
    "\n",
    "print(\"x: \", x.shape, x.numpy().flatten())\n",
    "\n",
    "print(\"====\")\n",
    "\n",
    "print(\"pooled_max(tf): \", pooled_avg.shape, pooled_avg.numpy().flatten())\n",
    "\n",
    "print(\"====\")\n",
    "\n",
    "x = x.numpy().flatten()\n",
    "pooled_avg_man = np.zeros(shape=(L-f+1, )) # 빈 공간 마련\n",
    "for i in range(L-f+1):\n",
    "    window = x[i:i+f]\n",
    "    pooled_avg_man[i] = np.max(window)\n",
    "print(\"pooled_max(man): \", pooled_avg_man.shape, pooled_avg_man)\n"
   ]
  },
  {
   "attachments": {},
   "cell_type": "markdown",
   "metadata": {},
   "source": [
    "Average Pooling"
   ]
  },
  {
   "cell_type": "code",
   "execution_count": 17,
   "metadata": {},
   "outputs": [
    {
     "name": "stdout",
     "output_type": "stream",
     "text": [
      "x:  (1, 10, 1) [-0.25895742 -0.62685776  0.48678806 -0.9509754   1.7613645  -2.6327667\n",
      " -1.4622571  -0.19159655  0.14958392  1.2808422 ]\n",
      "====\n",
      "pooled_avg(tf):  (1, 9, 1) [-0.44290757 -0.07003485 -0.23209368  0.40519452 -0.43570113 -2.047512\n",
      " -0.8269268  -0.02100632  0.71521306]\n",
      "====\n",
      "pooled_avg(man):  (9,) [-0.44290757 -0.07003485 -0.23209368  0.40519452 -0.43570113 -2.04751205\n",
      " -0.82692683 -0.02100632  0.71521306]\n"
     ]
    }
   ],
   "source": [
    "import numpy as np\n",
    "import tensorflow as tf\n",
    "\n",
    "from tensorflow.keras.layers import AveragePooling1D\n",
    "\n",
    "L, f, s = 10, 2, 1\n",
    "\n",
    "x = tf.random.normal(shape=(1, L, 1))\n",
    "pool_avg = AveragePooling1D(pool_size=f, strides=1)\n",
    "pooled_avg = pool_avg(x)\n",
    "\n",
    "print(\"x: \", x.shape, x.numpy().flatten())\n",
    "\n",
    "print(\"====\")\n",
    "\n",
    "print(\"pooled_avg(tf): \", pooled_avg.shape, pooled_avg.numpy().flatten())\n",
    "\n",
    "print(\"====\")\n",
    "\n",
    "x = x.numpy().flatten()\n",
    "pooled_avg_man = np.zeros(shape=(L-f+1, )) # 빈 공간 마련\n",
    "for i in range(L-f+1):\n",
    "    window = x[i:i+f]\n",
    "    pooled_avg_man[i] = np.mean(window)\n",
    "print(\"pooled_avg(man): \", pooled_avg_man.shape, pooled_avg_man)\n"
   ]
  },
  {
   "attachments": {},
   "cell_type": "markdown",
   "metadata": {},
   "source": [
    "### 2D Max/Avg Pooling\n",
    "Max Pooling"
   ]
  },
  {
   "cell_type": "code",
   "execution_count": 10,
   "metadata": {},
   "outputs": [
    {
     "name": "stdout",
     "output_type": "stream",
     "text": [
      "x:  (1, 5, 5, 1) [[ 0.19611657  1.3494246  -1.2294924  -0.9300468  -0.42458913]\n",
      " [-1.1409936   1.1929995   0.13949452 -0.24851546  0.1254662 ]\n",
      " [-0.3455199  -0.06685569  1.1535254   0.35475448  0.4694748 ]\n",
      " [-1.2560853   0.77089024 -1.2825122  -1.408023    0.8571363 ]\n",
      " [ 1.2319617  -1.7328146  -0.6236926   0.48285094 -2.4249656 ]]\n",
      "====\n",
      "pooled_max(tf):  (4, 4) [[1.3494246  1.3494246  0.13949452 0.1254662 ]\n",
      " [1.1929995  1.1929995  1.1535254  0.4694748 ]\n",
      " [0.77089024 1.1535254  1.1535254  0.8571363 ]\n",
      " [1.2319617  0.77089024 0.48285094 0.8571363 ]]\n",
      "====\n",
      "pooled_max(man):  (4, 4) [[1.3494246  1.3494246  0.13949452 0.1254662 ]\n",
      " [1.19299948 1.19299948 1.15352535 0.46947479]\n",
      " [0.77089024 1.15352535 1.15352535 0.85713631]\n",
      " [1.23196173 0.77089024 0.48285094 0.85713631]]\n"
     ]
    }
   ],
   "source": [
    "import numpy as np\n",
    "import tensorflow as tf\n",
    "\n",
    "from tensorflow.keras.layers import MaxPooling2D\n",
    "\n",
    "N, n_H, n_W, n_C = 1, 5, 5, 1\n",
    "f, s = 2, 1\n",
    "\n",
    "x = tf.random.normal(shape=(N, n_H, n_W, n_C))\n",
    "pool_avg = MaxPooling2D(pool_size=f, strides=s)\n",
    "pooled_avg = pool_avg(x)\n",
    "\n",
    "print(\"x: \", x.shape, x.numpy().squeeze())\n",
    "\n",
    "print(\"====\")\n",
    "\n",
    "print(\"pooled_max(tf): \", pooled_avg.numpy().squeeze().shape, pooled_avg.numpy().squeeze())\n",
    "\n",
    "print(\"====\")\n",
    "\n",
    "x = x.numpy().squeeze()\n",
    "pooled_avg_man = np.zeros(shape=(n_H-f+1, n_W-f+1)) # 빈 공간 마련\n",
    "# print(x.shape, pooled_max_man.shape)\n",
    "\n",
    "for h in range(n_H-f+1):\n",
    "    for w in range(n_W-f+1):\n",
    "        window = x[h:h+f, w:w+f]\n",
    "        pooled_avg_man[h, w] = np.max(window)\n",
    "\n",
    "print(\"pooled_max(man): \", pooled_avg_man.shape, pooled_avg_man)\n"
   ]
  },
  {
   "attachments": {},
   "cell_type": "markdown",
   "metadata": {},
   "source": [
    "Average Pooling"
   ]
  },
  {
   "cell_type": "code",
   "execution_count": 11,
   "metadata": {},
   "outputs": [
    {
     "name": "stdout",
     "output_type": "stream",
     "text": [
      "x:  (1, 5, 5, 1) [[ 0.28601244  0.53062636 -0.7037066  -0.92224    -1.2984333 ]\n",
      " [-1.1944699   1.4634187   0.9112951   0.41171563 -0.9447627 ]\n",
      " [-0.46025935 -0.429038   -0.9459781  -0.06952394 -0.7966157 ]\n",
      " [ 0.03956525 -0.34871122 -0.6001071   0.7722165  -0.37823176]\n",
      " [-0.6210017  -0.7957154  -0.31128603 -0.5073473  -1.1899222 ]]\n",
      "====\n",
      "pooled_avg(tf):  (4, 4) [[ 0.2713969   0.5504084  -0.07573397 -0.6884301 ]\n",
      " [-0.15508714  0.24992444  0.07687716 -0.34979668]\n",
      " [-0.29961082 -0.5809586  -0.21084817 -0.11803873]\n",
      " [-0.43146577 -0.51395494 -0.16163097 -0.3258212 ]]\n",
      "====\n",
      "pooled_avg(man):  (4, 4) [[ 0.27139691  0.55040842 -0.07573397 -0.68843007]\n",
      " [-0.15508714  0.24992444  0.07687716 -0.34979668]\n",
      " [-0.29961082 -0.5809586  -0.21084817 -0.11803873]\n",
      " [-0.43146577 -0.51395494 -0.16163097 -0.32582119]]\n"
     ]
    }
   ],
   "source": [
    "import numpy as np\n",
    "import tensorflow as tf\n",
    "\n",
    "from tensorflow.keras.layers import AveragePooling2D\n",
    "\n",
    "N, n_H, n_W, n_C = 1, 5, 5, 1\n",
    "f, s = 2, 1\n",
    "\n",
    "x = tf.random.normal(shape=(N, n_H, n_W, n_C))\n",
    "pool_avg = AveragePooling2D(pool_size=f, strides=s)\n",
    "pooled_avg = pool_avg(x)\n",
    "\n",
    "print(\"x: \", x.shape, x.numpy().squeeze())\n",
    "\n",
    "print(\"====\")\n",
    "\n",
    "print(\"pooled_avg(tf): \", pooled_avg.numpy().squeeze().shape, pooled_avg.numpy().squeeze())\n",
    "\n",
    "print(\"====\")\n",
    "\n",
    "x = x.numpy().squeeze()\n",
    "pooled_avg_man = np.zeros(shape=(n_H-f+1, n_W-f+1)) # 빈 공간 마련\n",
    "# print(x.shape, pooled_avg_man.shape)\n",
    "\n",
    "for h in range(n_H-f+1):\n",
    "    for w in range(n_W-f+1):\n",
    "        window = x[h:h+f, w:w+f]\n",
    "        pooled_avg_man[h, w] = np.mean(window)\n",
    "\n",
    "print(\"pooled_avg(man): \", pooled_avg_man.shape, pooled_avg_man)"
   ]
  },
  {
   "attachments": {},
   "cell_type": "markdown",
   "metadata": {},
   "source": [
    "### 3D Max/Avg Pooing\n",
    "3D Max Pooling"
   ]
  },
  {
   "cell_type": "code",
   "execution_count": 12,
   "metadata": {},
   "outputs": [
    {
     "name": "stdout",
     "output_type": "stream",
     "text": [
      "pooled_max(tf):  (1, 2, 2, 3) \n",
      " [[[ 2.535068    1.9994445 ]\n",
      "  [ 0.61555254  1.4588223 ]]\n",
      "\n",
      " [[ 1.3049465   0.45746964]\n",
      "  [ 1.0579277   0.51538265]]\n",
      "\n",
      " [[ 0.28735164 -0.11916433]\n",
      "  [ 1.2601216   0.16968465]]] \n",
      "\n",
      "pooled_max(man):  (2, 2, 3) \n",
      " [[[ 2.53506804  1.99944448]\n",
      "  [ 0.61555254  1.45882225]]\n",
      "\n",
      " [[ 1.30494654  0.45746964]\n",
      "  [ 1.05792773  0.51538265]]\n",
      "\n",
      " [[ 0.28735164 -0.11916433]\n",
      "  [ 1.26012158  0.16968465]]]\n"
     ]
    }
   ],
   "source": [
    "import tensorflow as tf\n",
    "import numpy as np\n",
    "import math\n",
    "\n",
    "from tensorflow.keras.layers import MaxPooling2D\n",
    "\n",
    "N, n_H, n_W, n_C = 1, 5, 5, 3\n",
    "f, s = 2, 2\n",
    "\n",
    "x = tf.random.normal(shape=(N, n_H, n_W, n_C))\n",
    "# print(\"x: \", x.shape, np.transpose(x.numpy().squeeze(), (2, 0, 1)))\n",
    "\n",
    "pool_max = MaxPooling2D(pool_size=f, strides=s)\n",
    "pooled_max = pool_max(x)\n",
    "\n",
    "pooled_max_t = pooled_max.numpy().squeeze()\n",
    "pooled_max_t = np.transpose(pooled_max_t, (2, 0, 1))\n",
    "print(\"pooled_max(tf): \", pooled_max.shape, \"\\n\", pooled_max_t, \"\\n\")\n",
    "\n",
    "###\n",
    "\n",
    "x = x.numpy().squeeze()\n",
    "\n",
    "n_H_ = math.floor((n_H - f)/s + 1)\n",
    "n_W_ = math.floor((n_W - f)/s + 1)\n",
    "\n",
    "pooled_max_man = np.zeros(shape=(n_H_, n_W_, n_C)) # initialize\n",
    "# print(pooled_max_man.shape)\n",
    "\n",
    "for c in range(n_C):\n",
    "\n",
    "    h_ = 0\n",
    "    for h in range(0, n_H-f+1, s):\n",
    "        w_ = 0\n",
    "        for w in range(0, n_W-f+1, s):\n",
    "            window = x[h:h+f, w:w+f, c]\n",
    "            pooled_max_man[h_, w_, c] = np.max(window)\n",
    "            w_ += 1\n",
    "        h_ += 1\n",
    "print(\"pooled_max(man): \", pooled_max_man.shape, \"\\n\", np.transpose(pooled_max_man, (2, 0, 1)))"
   ]
  }
 ],
 "metadata": {
  "kernelspec": {
   "display_name": "tensorflow",
   "language": "python",
   "name": "python3"
  },
  "language_info": {
   "codemirror_mode": {
    "name": "ipython",
    "version": 3
   },
   "file_extension": ".py",
   "mimetype": "text/x-python",
   "name": "python",
   "nbconvert_exporter": "python",
   "pygments_lexer": "ipython3",
   "version": "3.10.11"
  },
  "orig_nbformat": 4
 },
 "nbformat": 4,
 "nbformat_minor": 2
}
