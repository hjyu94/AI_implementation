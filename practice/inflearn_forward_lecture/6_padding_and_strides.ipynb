{
 "cells": [
  {
   "attachments": {},
   "cell_type": "markdown",
   "metadata": {},
   "source": [
    "### Padding\n",
    "ZeroPadding2D Layer"
   ]
  },
  {
   "cell_type": "code",
   "execution_count": 30,
   "metadata": {},
   "outputs": [
    {
     "name": "stdout",
     "output_type": "stream",
     "text": [
      "[[[-1.2168927  -0.78972983 -0.83574384]\n",
      "  [-1.6339096   0.910048   -1.8111992 ]\n",
      "  [-0.71090806  0.2270489   2.3972147 ]]\n",
      "\n",
      " [[ 1.256716    1.3430178  -1.2414734 ]\n",
      "  [-0.07638595  0.92842805 -0.19933304]\n",
      "  [ 0.0330605  -0.8876815   1.4780048 ]]\n",
      "\n",
      " [[-0.19371322  0.7567852  -0.18726139]\n",
      "  [-1.2246002   0.98030937  0.13346282]\n",
      "  [-0.20719059 -0.18851155  0.6449295 ]]]\n",
      "[[[ 0.          0.          0.          0.          0.        ]\n",
      "  [ 0.         -1.2168927  -0.78972983 -0.83574384  0.        ]\n",
      "  [ 0.         -1.6339096   0.910048   -1.8111992   0.        ]\n",
      "  [ 0.         -0.71090806  0.2270489   2.3972147   0.        ]\n",
      "  [ 0.          0.          0.          0.          0.        ]]\n",
      "\n",
      " [[ 0.          0.          0.          0.          0.        ]\n",
      "  [ 0.          1.256716    1.3430178  -1.2414734   0.        ]\n",
      "  [ 0.         -0.07638595  0.92842805 -0.19933304  0.        ]\n",
      "  [ 0.          0.0330605  -0.8876815   1.4780048   0.        ]\n",
      "  [ 0.          0.          0.          0.          0.        ]]\n",
      "\n",
      " [[ 0.          0.          0.          0.          0.        ]\n",
      "  [ 0.         -0.19371322  0.7567852  -0.18726139  0.        ]\n",
      "  [ 0.         -1.2246002   0.98030937  0.13346282  0.        ]\n",
      "  [ 0.         -0.20719059 -0.18851155  0.6449295   0.        ]\n",
      "  [ 0.          0.          0.          0.          0.        ]]]\n"
     ]
    }
   ],
   "source": [
    "import tensorflow as tf\n",
    "import numpy as np\n",
    "\n",
    "from tensorflow.keras.layers import ZeroPadding2D\n",
    "\n",
    "images = tf.random.normal(shape=(1, 3, 3, 3))\n",
    "print(np.transpose(images.numpy().squeeze(), (2, 0, 1)))\n",
    "\n",
    "zero_padding = ZeroPadding2D(padding=1)\n",
    "y = zero_padding(images)\n",
    "print(np.transpose(y.numpy().squeeze(), (2, 0, 1)))\n"
   ]
  },
  {
   "attachments": {},
   "cell_type": "markdown",
   "metadata": {},
   "source": [
    "Zero Padding with Conv2D Layers"
   ]
  },
  {
   "cell_type": "code",
   "execution_count": 31,
   "metadata": {},
   "outputs": [
    {
     "name": "stdout",
     "output_type": "stream",
     "text": [
      "image:  (1, 28, 28, 3)\n",
      "y:  (1, 28, 28, 1)\n"
     ]
    }
   ],
   "source": [
    "import tensorflow as tf\n",
    "\n",
    "from tensorflow.keras.layers import Conv2D\n",
    "\n",
    "images = tf.random.normal(shape=(1, 28, 28, 3))\n",
    "pool = Conv2D(filters=1, kernel_size=3, padding='same') # Conv 에서는 padding = ['same', 'valid'] 를 주로 사용\n",
    "y = pool(images)\n",
    "\n",
    "print(\"image: \", images.shape)\n",
    "print(\"y: \", y.shape)\n"
   ]
  },
  {
   "attachments": {},
   "cell_type": "markdown",
   "metadata": {},
   "source": [
    "### Strides\n",
    "Strides in Conv2D Layers"
   ]
  },
  {
   "cell_type": "code",
   "execution_count": 32,
   "metadata": {},
   "outputs": [
    {
     "name": "stdout",
     "output_type": "stream",
     "text": [
      "image:  (1, 28, 28, 3)\n",
      "y:  (1, 13, 13, 1)\n"
     ]
    }
   ],
   "source": [
    "import tensorflow as tf\n",
    "\n",
    "from tensorflow.keras.layers import Conv2D\n",
    "\n",
    "\n",
    "images = tf.random.normal(shape=(1, 28, 28, 3))\n",
    "pool = Conv2D(filters=1, kernel_size=3, padding='valid', strides=2)\n",
    "y = pool(images)\n",
    "\n",
    "print(\"image: \", images.shape)\n",
    "print(\"y: \", y.shape)"
   ]
  },
  {
   "attachments": {},
   "cell_type": "markdown",
   "metadata": {},
   "source": [
    "Strides in Pooling Layers"
   ]
  },
  {
   "cell_type": "code",
   "execution_count": 33,
   "metadata": {},
   "outputs": [
    {
     "name": "stdout",
     "output_type": "stream",
     "text": [
      "image:  (1, 28, 28, 3)\n",
      "y:  (1, 13, 13, 3)\n"
     ]
    }
   ],
   "source": [
    "import tensorflow as tf\n",
    "\n",
    "from tensorflow.keras.layers import MaxPooling2D\n",
    "\n",
    "\n",
    "images = tf.random.normal(shape=(1, 28, 28, 3))\n",
    "pool = MaxPooling2D(pool_size=3, strides=2)\n",
    "y = pool(images)\n",
    "\n",
    "print(\"image: \", images.shape)\n",
    "print(\"y: \", y.shape)"
   ]
  }
 ],
 "metadata": {
  "kernelspec": {
   "display_name": "tensorflow",
   "language": "python",
   "name": "python3"
  },
  "language_info": {
   "codemirror_mode": {
    "name": "ipython",
    "version": 3
   },
   "file_extension": ".py",
   "mimetype": "text/x-python",
   "name": "python",
   "nbconvert_exporter": "python",
   "pygments_lexer": "ipython3",
   "version": "3.10.11"
  },
  "orig_nbformat": 4
 },
 "nbformat": 4,
 "nbformat_minor": 2
}
