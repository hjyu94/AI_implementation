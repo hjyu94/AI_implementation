{
 "cells": [
  {
   "attachments": {},
   "cell_type": "markdown",
   "metadata": {},
   "source": [
    "AND problem (without tensorflow API)"
   ]
  },
  {
   "cell_type": "code",
   "execution_count": 6,
   "metadata": {},
   "outputs": [
    {
     "name": "stdout",
     "output_type": "stream",
     "text": [
      "W:  [0.37454012 0.95071431]\n",
      "[0 0 0 1]\n"
     ]
    }
   ],
   "source": [
    "import numpy as np\n",
    "\n",
    "def step_function(x):\n",
    "    ## if scalar,\n",
    "    # if (x >= 0.5):\n",
    "    #     return 1\n",
    "    # else:\n",
    "    #     return 0\n",
    "\n",
    "    ## if vector,\n",
    "    return np.where(x>=0.5, 1, 0)\n",
    "\n",
    "class Perceptron:\n",
    "    def __init__(self, lr=0.01, n_epochs=5):\n",
    "        np.random.seed(42)\n",
    "\n",
    "        self.lr = lr\n",
    "        self.n_epochs = n_epochs \n",
    "        self.activation_func = step_function\n",
    "        self.weights = np.random.random(2)\n",
    "        print(\"W: \", self.weights)\n",
    "        self.bias = 0\n",
    "    \n",
    "    def predict(self, X):\n",
    "        a = np.dot(X, self.weights) + self.bias\n",
    "        z = self.activation_func(a)\n",
    "        return z\n",
    "    \n",
    "    def fit(self, X, y):\n",
    "        n_samples, n_features = X.shape # (4, 2)\n",
    "        self.weights = np.random.random(n_features) # Each training, weight is initialized.\n",
    "        self.bias = 0\n",
    "\n",
    "        for _ in range(self.n_epochs):\n",
    "            for idx, sample in enumerate(X):\n",
    "                z = self.predict(sample)\n",
    "                \n",
    "                w_grad = (z - y[idx]) * sample\n",
    "                b_grad = (z - y[idx])\n",
    "\n",
    "                self.weights = self.weights - self.lr * w_grad\n",
    "                self.bias = self.bias - self.lr * b_grad\n",
    "\n",
    "\n",
    "neuron = Perceptron(n_epochs=10000)\n",
    "X = [[0, 0], [0, 1], [1, 0], [1, 1]]\n",
    "z = neuron.predict(X)\n",
    "\n",
    "X = np.array(X)\n",
    "y = np.array([0, 0, 0, 1])\n",
    "neuron.fit(X, y)\n",
    "\n",
    "z = neuron.predict(X)\n",
    "print(z)"
   ]
  },
  {
   "attachments": {},
   "cell_type": "markdown",
   "metadata": {},
   "source": [
    "AND problem (with tensorflow API)"
   ]
  },
  {
   "cell_type": "code",
   "execution_count": 8,
   "metadata": {},
   "outputs": [
    {
     "name": "stdout",
     "output_type": "stream",
     "text": [
      "1/1 [==============================] - 0s 22ms/step\n",
      "[[0.05284845]\n",
      " [0.26240677]\n",
      " [0.24944854]\n",
      " [0.67939186]]\n"
     ]
    }
   ],
   "source": [
    "import numpy as np\n",
    "import tensorflow as tf\n",
    "\n",
    "# 1. model creation\n",
    "model = tf.keras.Sequential([\n",
    "    tf.keras.layers.Dense(units=1, activation='sigmoid')\n",
    "])\n",
    "\n",
    "# 2. model compile\n",
    "model.compile(optimizer='SGD', loss='MeanSquaredError')\n",
    "\n",
    "X = np.array([[0, 0], [0, 1], [1, 0], [1, 1]])\n",
    "y = np.array([0, 0, 0, 1])\n",
    "\n",
    "# 3. model train\n",
    "model.fit(X, y, epochs=10000, verbose=0)\n",
    "\n",
    "# 4. predict\n",
    "print(model.predict(X))"
   ]
  }
 ],
 "metadata": {
  "kernelspec": {
   "display_name": "tensorflow",
   "language": "python",
   "name": "python3"
  },
  "language_info": {
   "codemirror_mode": {
    "name": "ipython",
    "version": 3
   },
   "file_extension": ".py",
   "mimetype": "text/x-python",
   "name": "python",
   "nbconvert_exporter": "python",
   "pygments_lexer": "ipython3",
   "version": "3.10.11"
  },
  "orig_nbformat": 4
 },
 "nbformat": 4,
 "nbformat_minor": 2
}
