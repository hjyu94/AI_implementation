{
 "cells": [
  {
   "attachments": {},
   "cell_type": "markdown",
   "metadata": {},
   "source": [
    "AND problem (without tensorflow API)"
   ]
  },
  {
   "cell_type": "code",
   "execution_count": 6,
   "metadata": {},
   "outputs": [
    {
     "name": "stdout",
     "output_type": "stream",
     "text": [
      "W:  [0.37454012 0.95071431]\n",
      "[0 0 0 1]\n"
     ]
    }
   ],
   "source": [
    "import numpy as np\n",
    "\n",
    "def step_function(x):\n",
    "    ## if scalar,\n",
    "    # if (x >= 0.5):\n",
    "    #     return 1\n",
    "    # else:\n",
    "    #     return 0\n",
    "\n",
    "    ## if vector,\n",
    "    return np.where(x>=0.5, 1, 0)\n",
    "\n",
    "class Perceptron:\n",
    "    def __init__(self, lr=0.01, n_epochs=5):\n",
    "        np.random.seed(42)\n",
    "\n",
    "        self.lr = lr\n",
    "        self.n_epochs = n_epochs \n",
    "        self.activation_func = step_function\n",
    "        self.weights = np.random.random(2)\n",
    "        print(\"W: \", self.weights)\n",
    "        self.bias = 0\n",
    "    \n",
    "    def predict(self, X):\n",
    "        a = np.dot(X, self.weights) + self.bias\n",
    "        z = self.activation_func(a)\n",
    "        return z\n",
    "    \n",
    "    def fit(self, X, y):\n",
    "        n_samples, n_features = X.shape # (4, 2)\n",
    "        self.weights = np.random.random(n_features) # Each training, weight is initialized.\n",
    "        self.bias = 0\n",
    "\n",
    "        for _ in range(self.n_epochs):\n",
    "            for idx, sample in enumerate(X):\n",
    "                z = self.predict(sample)\n",
    "                \n",
    "                w_grad = (z - y[idx]) * sample\n",
    "                b_grad = (z - y[idx])\n",
    "\n",
    "                self.weights = self.weights - self.lr * w_grad\n",
    "                self.bias = self.bias - self.lr * b_grad\n",
    "\n",
    "\n",
    "neuron = Perceptron(n_epochs=10000)\n",
    "X = [[0, 0], [0, 1], [1, 0], [1, 1]]\n",
    "z = neuron.predict(X)\n",
    "\n",
    "X = np.array(X)\n",
    "y = np.array([0, 0, 0, 1])\n",
    "neuron.fit(X, y)\n",
    "\n",
    "z = neuron.predict(X)\n",
    "print(z)"
   ]
  },
  {
   "attachments": {},
   "cell_type": "markdown",
   "metadata": {},
   "source": [
    "AND problem (with tensorflow API)"
   ]
  },
  {
   "cell_type": "code",
   "execution_count": null,
   "metadata": {},
   "outputs": [],
   "source": [
    "import numpy as np\n",
    "import tensorflow as tf\n",
    "\n",
    "# 1. model creation\n",
    "model = tf.keras.Sequential([\n",
    "    tf.keras.layers.Dense(units=1, activation='sigmoid')\n",
    "])\n",
    "\n",
    "# 2. model compile\n",
    "model.compile(optimizer='SGD', loss='MeanSquaredError')\n",
    "\n",
    "X = np.array([[0, 0], [0, 1], [1, 0], [1, 1]])\n",
    "Y = np.array([0, 1, 1, 0])\n",
    "\n",
    "# 3. model train\n"
   ]
  },
  {
   "attachments": {},
   "cell_type": "markdown",
   "metadata": {},
   "source": [
    "XOR problem"
   ]
  },
  {
   "cell_type": "code",
   "execution_count": 7,
   "metadata": {},
   "outputs": [
    {
     "name": "stdout",
     "output_type": "stream",
     "text": [
      "W:  [0.37454012 0.95071431]\n",
      "[1 1 0 1]\n"
     ]
    }
   ],
   "source": [
    "import numpy as np\n",
    "\n",
    "def tanh(x):\n",
    "    return 1 - np.pow(np.tanh(x), 2)\n",
    "\n",
    "def sigmoid(x):\n",
    "    return 1 / (1 + np.exp(-x))\n",
    "\n",
    "class Perceptron:\n",
    "    def __init__(self, lr=0.01, n_epochs=5):\n",
    "        np.random.seed(42)\n",
    "\n",
    "        self.lr = lr\n",
    "        self.n_epochs = n_epochs \n",
    "\n",
    "        self.activation_func_1_0 = tanh\n",
    "        self.weights_1_0 = np.random.random(2)\n",
    "        self.bias_1_0 = 0\n",
    "\n",
    "        self.activation_func_1_1 = tanh\n",
    "        self.weights_1_1 = np.random.random(2)\n",
    "        self.bias_1_1 = 0\n",
    "\n",
    "        self.activation_func_2 = sigmoid\n",
    "        self.weights_2 = np.random.random(2)\n",
    "        self.bias_2 = 0\n",
    "\n",
    "\n",
    "    def predict(self, X):\n",
    "        z_1_0 = np.dot(X, self.weights_1_0) + self.bias_1_0\n",
    "        a_1_0 = self.activation_func_1_0(z_1_0)\n",
    "\n",
    "        z_1_1 = np.dot(X, self.weights_1_1) + self.bias_1_1\n",
    "        a_1_1 = self.activation_func_1_1(z_1_1)\n",
    "\n",
    "        z_2 = np.dot([a_1_0, a_1_1], self.weights_2) + self.bias_2\n",
    "        a_2 = self.activation_func_2(z_2)\n",
    "\n",
    "        return a_2\n",
    "    \n",
    "    \n",
    "    def fit(self, X, y):\n",
    "        n_samples, n_features = X.shape # (4, 2)\n",
    "        self.weights = np.random.random(n_features) # Each training, weight is initialized.\n",
    "        self.bias = 0\n",
    "\n",
    "        for _ in range(self.n_epochs):\n",
    "            for idx, sample in enumerate(X):\n",
    "                z = self.predict(sample)\n",
    "                \n",
    "                w_grad = (z - y[idx]) * sample\n",
    "                b_grad = (z - y[idx])\n",
    "\n",
    "                self.weights = self.weights - self.lr * w_grad\n",
    "                self.bias = self.bias - self.lr * b_grad\n",
    "\n",
    "\n",
    "neuron = Perceptron(n_epochs=10000)\n",
    "X = [[0, 0], [0, 1], [1, 0], [1, 1]]\n",
    "z = neuron.predict(X)\n",
    "\n",
    "X = np.array(X)\n",
    "y = np.array([0, 1, 1, 0])\n",
    "neuron.fit(X, y)\n",
    "\n",
    "z = neuron.predict(X)\n",
    "print(z)"
   ]
  }
 ],
 "metadata": {
  "kernelspec": {
   "display_name": "tensorflow",
   "language": "python",
   "name": "python3"
  },
  "language_info": {
   "codemirror_mode": {
    "name": "ipython",
    "version": 3
   },
   "file_extension": ".py",
   "mimetype": "text/x-python",
   "name": "python",
   "nbconvert_exporter": "python",
   "pygments_lexer": "ipython3",
   "version": "3.10.11"
  },
  "orig_nbformat": 4
 },
 "nbformat": 4,
 "nbformat_minor": 2
}
